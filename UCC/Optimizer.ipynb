{
 "cells": [
  {
   "cell_type": "code",
   "execution_count": 1,
   "metadata": {},
   "outputs": [],
   "source": [
    "import math as m\n",
    "import sys\n",
    "import numpy as np\n",
    "from numpy import cos\n",
    "from numpy import pi\n",
    "np.set_printoptions(threshold=sys.maxsize)\n",
    "from scipy import linalg as LA\n",
    "from ipynb.fs.full.UCC import *\n",
    "from ipynb.fs.full.HAM import *\n",
    "import matplotlib.pyplot as plt"
   ]
  },
  {
   "cell_type": "code",
   "execution_count": 2,
   "metadata": {},
   "outputs": [],
   "source": [
    "def groundstate(U): #get ground state\n",
    "    tol = 0.4\n",
    "    eigenvalues, eigenvectors = LA.eigh(hamm(U))\n",
    "    eigenvalues = eigenvalues.real\n",
    "    eigenvectors = eigenvectors.real\n",
    "\n",
    "    idx = eigenvalues.argsort()[::-1]\n",
    "    eigenvalues = eigenvalues[idx]\n",
    "    eigenvectors = eigenvectors[idx]\n",
    "    ground_state = eigenvectors[-1].real\n",
    "    i = 1\n",
    "    #while abs(ground_state[0]) < tol:\n",
    "        #ground_state = eigenvectors[-i].real\n",
    "        #i += 1\n",
    "        \n",
    "    #if U == 0:\n",
    "        #ground_state = eigenvectors[-3]\n",
    "    return ground_state"
   ]
  },
  {
   "cell_type": "code",
   "execution_count": 3,
   "metadata": {},
   "outputs": [
    {
     "name": "stdout",
     "output_type": "stream",
     "text": [
      "[[-1, '13'], [-1, '25'], [1, '7'], [1, '19'], [-1, '3'], [-1, '5'], [1, '2'], [1, '4']]\n",
      "[[-1, '15'], [-1, '17'], [-1, '27'], [-1, '29'], [1, '14'], [1, '16'], [1, '26'], [1, '28'], [1, '9'], [1, '11'], [1, '21'], [1, '23'], [-1, '8'], [-1, '10'], [-1, '20'], [-1, '22'], [-1, '6'], [-1, '31']]\n"
     ]
    }
   ],
   "source": [
    "#create raw ucc lists\n",
    "possibles = singles(1)\n",
    "#ucc_matrix = np.zeros([36,36],dtype=np.int32)\n",
    "print(possibles)\n",
    "ucc_singles = np.zeros([len(possibles),len(basis),len(basis)])\n",
    "\n",
    "possibled = double(1)\n",
    "print(possibled)\n",
    "ucc_doubles = np.zeros([len(possibled),len(basis),len(basis)])"
   ]
  },
  {
   "cell_type": "code",
   "execution_count": 4,
   "metadata": {},
   "outputs": [],
   "source": [
    "poss = 0\n",
    "posd = 0\n",
    "\n",
    "for i in range(len(possibles)):\n",
    "    poss = int(possibles[i][1])\n",
    "    ucc_singles[i][0][poss-1] = int(possibles[i][0])\n",
    "    ucc_singles[i] = ucc_singles[i] - ucc_singles[i].transpose()\n",
    "    #ucc_singles[i] = ucc_singles[i] / LA.norm(ucc_singles[i])\n",
    "        \n",
    "for i in range(len(possibled)):\n",
    "    posd = int(possibled[i][1])\n",
    "    ucc_doubles[i][0][posd-1] = int(possibled[i][0])\n",
    "    ucc_doubles[i] = ucc_doubles[i] - ucc_doubles[i].transpose()\n",
    "    #ucc_doubles[i] = ucc_doubles[i] / LA.norm(ucc_doubles[i])\n",
    "        \n",
    "#whole_singles = np.zeros([len(basis), len(basis)])\n",
    "#for i in range(len(possibles)):\n",
    "    #whole_singles += ucc_singles[i]\n",
    "#whole_singles = whole_singles / LA.norm(whole_singles)  \n",
    "\n",
    "#whole_doubles = np.zeros([len(basis), len(basis)])\n",
    "#for i in range(len(possibled)):\n",
    "    #whole_doubles += ucc_doubles[i]\n",
    "#whole_doubles = whole_doubles / LA.norm(whole_doubles)  "
   ]
  },
  {
   "cell_type": "code",
   "execution_count": 5,
   "metadata": {},
   "outputs": [],
   "source": [
    "#CHECK\n",
    "'''\n",
    "for i in range(len(possibles)):\n",
    "    print(i)\n",
    "    print(ucc_singles[i])\n",
    "    print('\\n')\n",
    "'''\n",
    "'''\n",
    "for i in range(len(possibled)):\n",
    "    print(i)\n",
    "    print(ucc_doubles[i])\n",
    "    print('\\n')\n",
    "'''    \n",
    "uccket = groundstate(0.001)\n",
    "uccket = uccket / LA.norm(uccket)"
   ]
  },
  {
   "cell_type": "code",
   "execution_count": 7,
   "metadata": {},
   "outputs": [
    {
     "data": {
      "text/plain": [
       "'\\ndef appsg(vector):\\n    exponent = np.identity(36,dtype=float)\\n    theta = list(vector)\\n    for i in range(len(theta)):\\n        exponent *= LA.expm(theta[i] * ucc_singles[i])\\n    return np.dot(exponent, uccket)\\n\\ndef appdb(vector,ket):\\n    exponent = np.identity(36,dtype=float)\\n    theta = list(vector)\\n    for i in range(len(theta)):\\n        exponent *= LA.expm(theta[i] * ucc_doubles[i])\\n    return np.dot(exponent, ket)\\n'"
      ]
     },
     "execution_count": 7,
     "metadata": {},
     "output_type": "execute_result"
    }
   ],
   "source": [
    "def appsg(vector):\n",
    "    exponent = np.zeros([len(basis),len(basis)],dtype=float)\n",
    "    fexp = np.zeros([len(basis),len(basis)],dtype=float)\n",
    "    exp_total = np.identity(len(basis),dtype=float)\n",
    "    theta = list(vector)\n",
    "    for i in range(len(theta)):\n",
    "        exponent = theta[i] * ucc_singles[i]\n",
    "        fexp = LA.expm(exponent)\n",
    "        #fexp = np.nan_to_num(fexp)\n",
    "        exp_total *= fexp\n",
    "    return np.dot(exp_total, uccket)\n",
    "\n",
    "def appdb(vector,ket):\n",
    "    exponent = np.zeros([len(basis),len(basis)],dtype=float)\n",
    "    theta = list(vector)\n",
    "    for i in range(len(theta)):\n",
    "        if theta[i] != 0:\n",
    "            \n",
    "            exponent += theta[i] * ucc_doubles[i]\n",
    "    return np.dot(LA.expm(exponent), ket)\n",
    "'''\n",
    "def appsg(vector):\n",
    "    exponent = np.identity(36,dtype=float)\n",
    "    theta = list(vector)\n",
    "    for i in range(len(theta)):\n",
    "        exponent *= LA.expm(theta[i] * ucc_singles[i])\n",
    "    return np.dot(exponent, uccket)\n",
    "\n",
    "def appdb(vector,ket):\n",
    "    exponent = np.identity(36,dtype=float)\n",
    "    theta = list(vector)\n",
    "    for i in range(len(theta)):\n",
    "        exponent *= LA.expm(theta[i] * ucc_doubles[i])\n",
    "    return np.dot(exponent, ket)\n",
    "'''"
   ]
  },
  {
   "cell_type": "code",
   "execution_count": 26,
   "metadata": {},
   "outputs": [],
   "source": [
    "u_start = 0.0\n",
    "u_end = 1\n",
    "nstep = 11\n",
    "u_list = np.linspace(u_start, u_end, nstep)\n",
    "gs_vector = []\n",
    "for i in range(len(u_list)):\n",
    "    #print(u_list[i])\n",
    "    gs_vector.append(groundstate(u_list[i]))"
   ]
  },
  {
   "cell_type": "code",
   "execution_count": 27,
   "metadata": {},
   "outputs": [],
   "source": [
    "stepsize = 0.01\n",
    "anglelist = np.arange(0, 2*pi, stepsize)\n",
    "def bestsg(U):\n",
    "    #hamiltonian = hamm(U)\n",
    "    \n",
    "    energy = np.zeros([len(possibles), len(anglelist)])\n",
    "    angles = np.zeros(len(possibles))\n",
    "    overlap = np.zeros([len(possibles), len(anglelist)])\n",
    "    for i in range(len(possibles)):\n",
    "        if i != 6:\n",
    "            for j in range(len(anglelist)):\n",
    "                angles[i] = anglelist[j]\n",
    "                overlap[i][j] = np.dot(gs_vector[U],appsg(angles)) ** 2\n",
    "                #psi = np.dot(hamiltonian, appsg(angles))\n",
    "                #energy[i][j] = np.dot(appsg(angles),psi)\n",
    "        \n",
    "        index = np.argmax(overlap[i])\n",
    "        #e_index = np.argmin(energy[i])\n",
    "        #print(np.amin(energy[i]))\n",
    "        angles[i] = anglelist[index]\n",
    "        #angles[i] = anglelist[e_index]\n",
    "        #print(np.amax(energy[i]))\n",
    "        #print(np.amax(overlap[i]))\n",
    "        #print(overlap[i][e_index])\n",
    "        #print(overlap[i][index])\n",
    "    '''    \n",
    "    angles_new = angles\n",
    "    overlap_new = 0.0\n",
    "    for i in range(len(possibles)):\n",
    "        if i >= 1 and i < (len(possibles)-1):\n",
    "            angles_new[i] = (angles[i-1] + angles[i+1]) / 2.0\n",
    "        overlap_new = np.dot(gs_vector[U],appsg(angles_new)) ** 2\n",
    "        #psi = np.dot(hamiltonian, appsg(angles))\n",
    "        #energy[i][j] = np.dot(appsg(angles),psi)\n",
    "        if overlap_new > np.amax(overlap[i]):\n",
    "            angles[i] = angles_new[i]\n",
    "            overlap[i] = overlap_new\n",
    "    '''\n",
    "    return angles, overlap, energy\n",
    "\n",
    "def bestdb(U):\n",
    "    #hamiltonian = hamm(U)\n",
    "    ket = appsg(bestsg(U)[0])\n",
    "\n",
    "    energy = np.zeros([len(possibled), len(anglelist)])\n",
    "    angles = np.zeros(len(possibled))\n",
    "    overlap = np.zeros([len(possibled), len(anglelist)])\n",
    "    for i in range(len(possibled)):\n",
    "        for j in range(len(anglelist)):\n",
    "            angles[i] = anglelist[j]\n",
    "            overlap[i][j] = np.dot(gs_vector[U],appdb(angles,ket)) ** 2\n",
    "            #psi = np.dot(hamiltonian, appdb(angles))\n",
    "            #energy[i][j] = np.dot(appdb(angles),psi)\n",
    "        \n",
    "        #e_index = np.argmin(energy[i])\n",
    "        index = np.argmax(overlap[i])\n",
    "        angles[i] = anglelist[index]\n",
    "        #angles[i] = anglelist[e_index]\n",
    "        #print(np.amax(overlap[i]))\n",
    "    '''\n",
    "    angles_new = angles\n",
    "    overlap_new = 0.0\n",
    "    for i in range(len(possibled)):\n",
    "        if i >= 1 and i < (len(possibled)-1):\n",
    "            angles_new[i] = (angles[i-1] + angles[i+1]) / 2.0\n",
    "        overlap_new = np.dot(gs_vector[U],appdb(angles_new,ket)) ** 2\n",
    "        #psi = np.dot(hamiltonian, appsg(angles))\n",
    "        #energy[i][j] = np.dot(appsg(angles),psi)\n",
    "        if overlap_new > np.amax(overlap[i]):\n",
    "            angles[i] = angles_new[i]\n",
    "            overlap[i] = overlap_new\n",
    "    '''\n",
    "    return angles, overlap, energy"
   ]
  },
  {
   "cell_type": "code",
   "execution_count": 28,
   "metadata": {},
   "outputs": [
    {
     "data": {
      "text/plain": [
       "'\\nbest_singles = np.zeros([nstep, len(possibles)])\\nsingles_overlap = np.zeros(nstep)\\nsingles_energy = np.zeros(nstep)\\n#singles_list = []\\nfor i in range(nstep):\\n    print(i)\\n    best_singles[i] = bestsg(i)[0]\\n    singles_overlap[i] = np.amax(bestsg(i)[1])\\n    #singles_energy[i] = np.amin(bestsg(i)[2])\\nbest_singles = best_singles.transpose()\\nbest_singles = best_singles % np.pi\\n'"
      ]
     },
     "execution_count": 28,
     "metadata": {},
     "output_type": "execute_result"
    }
   ],
   "source": [
    "'''\n",
    "best_singles = np.zeros([nstep, len(possibles)])\n",
    "singles_overlap = np.zeros(nstep)\n",
    "singles_energy = np.zeros(nstep)\n",
    "#singles_list = []\n",
    "for i in range(nstep):\n",
    "    print(i)\n",
    "    best_singles[i] = bestsg(i)[0]\n",
    "    singles_overlap[i] = np.amax(bestsg(i)[1])\n",
    "    #singles_energy[i] = np.amin(bestsg(i)[2])\n",
    "best_singles = best_singles.transpose()\n",
    "best_singles = best_singles % np.pi\n",
    "'''"
   ]
  },
  {
   "cell_type": "code",
   "execution_count": 29,
   "metadata": {},
   "outputs": [
    {
     "data": {
      "text/plain": [
       "'\\nbest_doubles = np.zeros([nstep+1, len(possibled)])\\ndoubles_overlap = np.zeros(nstep+1)\\ndoubles_energy = np.zeros(nstep+1)\\n#doubles_list = []\\nfor i in range(nstep+1):\\n    print(i)\\n    #doubles_list = bestdb(i)\\n    best_doubles[i] = bestdb(i)[0]\\n    doubles_overlap[i] = np.amax(bestdb(i)[1])\\n    #doubles_energy[i] = np.amin(bestdb(i)[2])\\nbest_doubles = best_doubles.transpose()\\nbest_doubles = best_doubles % np.pi\\n'"
      ]
     },
     "execution_count": 29,
     "metadata": {},
     "output_type": "execute_result"
    }
   ],
   "source": [
    "'''\n",
    "best_doubles = np.zeros([nstep+1, len(possibled)])\n",
    "doubles_overlap = np.zeros(nstep+1)\n",
    "doubles_energy = np.zeros(nstep+1)\n",
    "#doubles_list = []\n",
    "for i in range(nstep+1):\n",
    "    print(i)\n",
    "    #doubles_list = bestdb(i)\n",
    "    best_doubles[i] = bestdb(i)[0]\n",
    "    doubles_overlap[i] = np.amax(bestdb(i)[1])\n",
    "    #doubles_energy[i] = np.amin(bestdb(i)[2])\n",
    "best_doubles = best_doubles.transpose()\n",
    "best_doubles = best_doubles % np.pi\n",
    "'''"
   ]
  },
  {
   "cell_type": "code",
   "execution_count": 30,
   "metadata": {},
   "outputs": [
    {
     "data": {
      "text/plain": [
       "\"\\nfig, ax1 = plt.subplots(figsize=(18, 10))\\nplt.yticks(np.arange(0,4,step=np.pi/8))\\nax2 = ax1.twinx()\\nax1.plot(u_list, best_singles[0], label = 'Singles 0')\\nax1.plot(u_list, best_singles[1], label = 'Singles 1')\\nax1.plot(u_list, best_singles[2], label = 'Singles 2')\\nax1.plot(u_list, best_singles[3], label = 'Singles 3')\\nax1.plot(u_list, best_singles[4], label = 'Singles 4')\\nax1.plot(u_list, best_singles[5], label = 'Singles 5')\\nax1.plot(u_list, best_singles[6], label = 'Singles 6')\\nax1.plot(u_list, best_singles[7], label = 'Singles 7')\\nax2.plot(u_list, singles_overlap, 'x')\\n#ax2.plot(u_list, singles_energy, 'x')\\nax1.set_ylabel('Rz angles')\\nax2.set_ylabel('Overlap squared')\\nax1.set_xlabel('U')\\nplt.title('Singles angles/overlaps squared')\\n#plt.legend()\\nplt.show()\\n\""
      ]
     },
     "execution_count": 30,
     "metadata": {},
     "output_type": "execute_result"
    }
   ],
   "source": [
    "'''\n",
    "for i in range(len(best_singles)):\n",
    "    for j in range(len(u_list)):\n",
    "        \n",
    "        if (best_singles[i][j] > 2.7):\n",
    "            best_singles[i][j] = abs(best_singles[i][j] - np.pi)\n",
    "'''\n",
    "'''\n",
    "fig, ax1 = plt.subplots(figsize=(18, 10))\n",
    "plt.yticks(np.arange(0,4,step=np.pi/8))\n",
    "ax2 = ax1.twinx()\n",
    "ax1.plot(u_list, best_singles[0], label = 'Singles 0')\n",
    "ax1.plot(u_list, best_singles[1], label = 'Singles 1')\n",
    "ax1.plot(u_list, best_singles[2], label = 'Singles 2')\n",
    "ax1.plot(u_list, best_singles[3], label = 'Singles 3')\n",
    "ax1.plot(u_list, best_singles[4], label = 'Singles 4')\n",
    "ax1.plot(u_list, best_singles[5], label = 'Singles 5')\n",
    "ax1.plot(u_list, best_singles[6], label = 'Singles 6')\n",
    "ax1.plot(u_list, best_singles[7], label = 'Singles 7')\n",
    "ax2.plot(u_list, singles_overlap, 'x')\n",
    "#ax2.plot(u_list, singles_energy, 'x')\n",
    "ax1.set_ylabel('Rz angles')\n",
    "ax2.set_ylabel('Overlap squared')\n",
    "ax1.set_xlabel('U')\n",
    "plt.title('Singles angles/overlaps squared')\n",
    "#plt.legend()\n",
    "plt.show()\n",
    "'''"
   ]
  },
  {
   "cell_type": "code",
   "execution_count": 31,
   "metadata": {},
   "outputs": [
    {
     "data": {
      "text/plain": [
       "\"\\nplt.ylabel('Rz angles')\\nfig, ax1 = plt.subplots(figsize=(18, 10))\\nplt.yticks(np.arange(0,3*np.pi/2,step=np.pi/8))\\nax2 = ax1.twinx()\\nax1.plot(u_list, best_doubles[0], '.', label = 'Doubles 0')\\nax1.plot(u_list, best_doubles[1], '.', label = 'Doubles 1')\\nax1.plot(u_list, best_doubles[2], '.', label = 'Doubles 2')\\nax1.plot(u_list, best_doubles[3], '.', label = 'Doubles 3')\\nax1.plot(u_list, best_doubles[4], '.', label = 'Doubles 4')\\nax1.plot(u_list, best_doubles[5], '.', label = 'Doubles 5')\\nax1.plot(u_list, best_doubles[6], '.', label = 'Doubles 6')\\nax1.plot(u_list, best_doubles[7], '.', label = 'Doubles 7')\\nax1.plot(u_list, best_doubles[8], '.', label = 'Doubles 8')\\nax1.plot(u_list, best_doubles[9], '.', label = 'Doubles 9')\\nax1.plot(u_list, best_doubles[10], '.', label = 'Doubles 10')\\nax1.plot(u_list, best_doubles[11], '.', label = 'Doubles 11')\\nax1.plot(u_list, best_doubles[12], '.', label = 'Doubles 12')\\nax1.plot(u_list, best_doubles[13], '.', label = 'Doubles 13')\\nax1.plot(u_list, best_doubles[14], '.', label = 'Doubles 14')\\nax1.plot(u_list, best_doubles[15], '.', label = 'Doubles 15')\\nax1.plot(u_list, best_doubles[16], '.', label = 'Doubles 16')\\nax1.plot(u_list, best_doubles[17], '.', label = 'Doubles 17')\\n\\nax2.plot(u_list, doubles_overlap, 'x')\\nax1.set_xlabel('U')\\nax1.set_ylabel('Rz angles')\\nax2.set_ylabel('Overlaps squared')\\nplt.title('Doubles angles/overlaps squared')\\nplt.legend()\\nplt.show()\\n\""
      ]
     },
     "execution_count": 31,
     "metadata": {},
     "output_type": "execute_result"
    }
   ],
   "source": [
    "'''\n",
    "plt.ylabel('Rz angles')\n",
    "fig, ax1 = plt.subplots(figsize=(18, 10))\n",
    "plt.yticks(np.arange(0,3*np.pi/2,step=np.pi/8))\n",
    "ax2 = ax1.twinx()\n",
    "ax1.plot(u_list, best_doubles[0], '.', label = 'Doubles 0')\n",
    "ax1.plot(u_list, best_doubles[1], '.', label = 'Doubles 1')\n",
    "ax1.plot(u_list, best_doubles[2], '.', label = 'Doubles 2')\n",
    "ax1.plot(u_list, best_doubles[3], '.', label = 'Doubles 3')\n",
    "ax1.plot(u_list, best_doubles[4], '.', label = 'Doubles 4')\n",
    "ax1.plot(u_list, best_doubles[5], '.', label = 'Doubles 5')\n",
    "ax1.plot(u_list, best_doubles[6], '.', label = 'Doubles 6')\n",
    "ax1.plot(u_list, best_doubles[7], '.', label = 'Doubles 7')\n",
    "ax1.plot(u_list, best_doubles[8], '.', label = 'Doubles 8')\n",
    "ax1.plot(u_list, best_doubles[9], '.', label = 'Doubles 9')\n",
    "ax1.plot(u_list, best_doubles[10], '.', label = 'Doubles 10')\n",
    "ax1.plot(u_list, best_doubles[11], '.', label = 'Doubles 11')\n",
    "ax1.plot(u_list, best_doubles[12], '.', label = 'Doubles 12')\n",
    "ax1.plot(u_list, best_doubles[13], '.', label = 'Doubles 13')\n",
    "ax1.plot(u_list, best_doubles[14], '.', label = 'Doubles 14')\n",
    "ax1.plot(u_list, best_doubles[15], '.', label = 'Doubles 15')\n",
    "ax1.plot(u_list, best_doubles[16], '.', label = 'Doubles 16')\n",
    "ax1.plot(u_list, best_doubles[17], '.', label = 'Doubles 17')\n",
    "\n",
    "ax2.plot(u_list, doubles_overlap, 'x')\n",
    "ax1.set_xlabel('U')\n",
    "ax1.set_ylabel('Rz angles')\n",
    "ax2.set_ylabel('Overlaps squared')\n",
    "plt.title('Doubles angles/overlaps squared')\n",
    "plt.legend()\n",
    "plt.show()\n",
    "'''"
   ]
  },
  {
   "cell_type": "code",
   "execution_count": 32,
   "metadata": {},
   "outputs": [],
   "source": [
    "just_singles = []\n",
    "just_overlap = np.zeros([len(gs_vector), len(ucc_singles)])\n",
    "#whole_anzats = np.dot(whole_singles, uccket)\n",
    "for i in range(len(ucc_singles)):\n",
    "    just_singles.append(np.dot(ucc_singles[i], uccket))\n",
    "\n",
    "for i in range(len(gs_vector)):\n",
    "    for j in range(len(just_singles)):\n",
    "        just_overlap[i][j] = np.dot(gs_vector[i], just_singles[j]) ** 2\n",
    "just_overlap = just_overlap.transpose()\n",
    "#whole_overlap = np.zeros(len(gs_vector))\n",
    "#for i in range(len(gs_vector)):\n",
    " #   print(i)\n",
    "  #  whole_overlap[i] = np.dot(gs_vector[i], whole_anzats) ** 2"
   ]
  },
  {
   "cell_type": "code",
   "execution_count": 43,
   "metadata": {},
   "outputs": [
    {
     "data": {
      "image/png": "[encoded data removed]",
      "text/plain": [
       "<Figure size 1296x720 with 1 Axes>"
      ]
     },
     "metadata": {
      "needs_background": "light"
     },
     "output_type": "display_data"
    }
   ],
   "source": [
    "fig, ax1 = plt.subplots(figsize=(18, 10))\n",
    "#plt.yticks(np.arange(0,np.pi,step=np.pi/8))\n",
    "ax1.plot(u_list, just_overlap[0],'.', label = 'Singles 0')\n",
    "ax1.plot(u_list, just_overlap[1],'.', label = 'Singles 1')\n",
    "ax1.plot(u_list, just_overlap[2],'.', label = 'Singles 2')\n",
    "ax1.plot(u_list, just_overlap[3],'.', label = 'Singles 3')\n",
    "#ax1.plot(u_list, just_overlap[4],'.', label = 'Singles 4')\n",
    "ax1.plot(u_list, just_overlap[5],'.', label = 'Singles 5')\n",
    "ax1.plot(u_list, just_overlap[6],'.', label = 'Singles 6')\n",
    "ax1.plot(u_list, just_overlap[7],'.', label = 'Singles 7')\n",
    "#ax1.plot(u_list, whole_overlap, '.')\n",
    "ax1.set_ylabel('Overlap squared')\n",
    "ax1.set_xlabel('U')\n",
    "#plt.ylim((-0.0001, 0.001))\n",
    "plt.legend()\n",
    "plt.show()"
   ]
  },
  {
   "cell_type": "code",
   "execution_count": 34,
   "metadata": {},
   "outputs": [],
   "source": [
    "sqrt_overlap = np.sqrt(just_overlap)"
   ]
  },
  {
   "cell_type": "code",
   "execution_count": 45,
   "metadata": {},
   "outputs": [
    {
     "data": {
      "image/png": "[encoded data removed]",
      "text/plain": [
       "<Figure size 1296x720 with 1 Axes>"
      ]
     },
     "metadata": {
      "needs_background": "light"
     },
     "output_type": "display_data"
    }
   ],
   "source": [
    "fig, ax1 = plt.subplots(figsize=(18, 10))\n",
    "for i in range(len(sqrt_overlap)):\n",
    "    ax1.plot(u_list, sqrt_overlap[i],'x', label = 'Singles ' + str(i))\n",
    "ax1.set_ylabel('Angles of the singless')\n",
    "ax1.set_xlabel('U')\n",
    "#plt.ylim((-0.001, 0.02))\n",
    "plt.legend()\n",
    "plt.show()"
   ]
  },
  {
   "cell_type": "code",
   "execution_count": 44,
   "metadata": {},
   "outputs": [],
   "source": [
    "sqrt_overlap[4] = 0\n",
    "transpose_sqrt = sqrt_overlap.transpose()\n",
    "psi_ucc_singles = np.zeros([len(u_list),len(basis)])\n",
    "\n",
    "for i in range(len(u_list)):\n",
    "    psi_ucc_singles[i] = appsg(transpose_sqrt[i])"
   ]
  },
  {
   "cell_type": "code",
   "execution_count": 46,
   "metadata": {},
   "outputs": [],
   "source": [
    "psi_prime = gs_vector - psi_ucc_singles"
   ]
  },
  {
   "cell_type": "code",
   "execution_count": 47,
   "metadata": {},
   "outputs": [],
   "source": [
    "doubles_antz = np.zeros([len(ucc_doubles), len(basis)])\n",
    "for i in range(len(ucc_doubles)):\n",
    "    doubles_antz[i] = np.dot(ucc_doubles[i], uccket)"
   ]
  },
  {
   "cell_type": "code",
   "execution_count": 48,
   "metadata": {},
   "outputs": [],
   "source": [
    "doubles_angles = np.zeros([len(doubles_antz), len(psi_prime)])\n",
    "for i in range(len(doubles_antz)):\n",
    "    for j in range(len(psi_prime)):\n",
    "        \n",
    "        doubles_angles[i][j] = np.dot(doubles_antz[i], psi_prime[j])"
   ]
  },
  {
   "cell_type": "code",
   "execution_count": 54,
   "metadata": {},
   "outputs": [
    {
     "data": {
      "image/png": "[encoded data removed]",
      "text/plain": [
       "<Figure size 1296x720 with 1 Axes>"
      ]
     },
     "metadata": {
      "needs_background": "light"
     },
     "output_type": "display_data"
    }
   ],
   "source": [
    "fig, ax1 = plt.subplots(figsize=(18, 10))\n",
    "for i in range(len(doubles_angles)):\n",
    "    ax1.plot(u_list, abs(doubles_angles[i]),'x', label = 'Doubles ' + str(i))\n",
    "ax1.set_ylabel('Angles of the doubles')\n",
    "ax1.set_xlabel('U')\n",
    "#plt.ylim((-0.00001, 0.0001))\n",
    "plt.legend()\n",
    "plt.show()"
   ]
  },
  {
   "cell_type": "code",
   "execution_count": 50,
   "metadata": {},
   "outputs": [
    {
     "data": {
      "text/plain": [
       "array([[ 0.00000000e+00, -3.53249156e-18, -8.08663465e-18,\n",
       "         6.95970442e-18, -1.45001394e-18, -8.09854557e-18,\n",
       "        -1.59118786e-17, -1.34616456e-17,  7.63939126e-18,\n",
       "        -1.15200901e-17, -1.85923242e-17],\n",
       "       [-4.48180761e-36,  3.11184712e-19,  2.89309922e-19,\n",
       "         1.06445436e-18,  3.20850734e-19,  3.50538670e-19,\n",
       "         3.11927003e-19,  2.47404427e-19,  3.06701729e-19,\n",
       "         3.16521410e-19,  3.08306796e-19],\n",
       "       [ 0.00000000e+00,  0.00000000e+00,  0.00000000e+00,\n",
       "         0.00000000e+00,  0.00000000e+00,  0.00000000e+00,\n",
       "         0.00000000e+00,  0.00000000e+00,  0.00000000e+00,\n",
       "         0.00000000e+00,  0.00000000e+00],\n",
       "       [ 0.00000000e+00,  0.00000000e+00,  0.00000000e+00,\n",
       "         0.00000000e+00,  0.00000000e+00,  0.00000000e+00,\n",
       "         0.00000000e+00,  0.00000000e+00,  0.00000000e+00,\n",
       "         0.00000000e+00,  0.00000000e+00],\n",
       "       [ 0.00000000e+00,  1.93347884e-18, -5.95059855e-18,\n",
       "         1.89877229e-17,  5.13324988e-18, -6.50414281e-18,\n",
       "         2.78311045e-17,  2.67133774e-17, -1.60590515e-17,\n",
       "        -4.53100822e-18, -8.88112851e-18],\n",
       "       [ 0.00000000e+00,  4.99553442e-19,  3.68013730e-19,\n",
       "        -6.28973535e-19,  1.41130072e-19, -6.11027131e-19,\n",
       "         2.37033862e-19, -1.83264670e-19, -3.12624556e-19,\n",
       "        -5.19096647e-19,  1.40657031e-19],\n",
       "       [ 0.00000000e+00,  4.74422578e-21,  4.05324441e-20,\n",
       "        -3.19473158e-20,  7.34669598e-20,  1.95126528e-20,\n",
       "         2.52490039e-20,  6.14628284e-21,  2.87116975e-19,\n",
       "         1.87939289e-19,  5.63319680e-19],\n",
       "       [ 0.00000000e+00,  0.00000000e+00,  0.00000000e+00,\n",
       "         0.00000000e+00,  0.00000000e+00,  0.00000000e+00,\n",
       "         0.00000000e+00,  0.00000000e+00,  0.00000000e+00,\n",
       "         0.00000000e+00,  0.00000000e+00],\n",
       "       [ 0.00000000e+00,  8.84275230e-20, -5.41896788e-20,\n",
       "        -6.03029319e-18, -1.16767248e-17,  2.08331929e-17,\n",
       "        -1.43502576e-18, -9.08347847e-20,  7.34846482e-18,\n",
       "        -6.48332343e-18,  2.96904867e-17],\n",
       "       [ 0.00000000e+00,  5.72549732e-20,  4.85915402e-19,\n",
       "         4.13574847e-18, -7.41582666e-18,  1.54700531e-17,\n",
       "        -9.27321000e-19, -1.13610866e-17,  5.65191305e-18,\n",
       "         6.15211317e-19, -1.78259234e-17],\n",
       "       [ 0.00000000e+00,  1.24889692e-17, -1.24389422e-18,\n",
       "        -9.09103379e-17, -5.49851647e-19, -7.17514290e-19,\n",
       "        -1.02774138e-16, -1.55408188e-17, -8.65236624e-19,\n",
       "        -1.00145370e-18,  8.17887602e-17],\n",
       "       [ 0.00000000e+00,  4.31966133e-03,  8.57113925e-03,\n",
       "         1.27086231e-02,  1.67307696e-02,  2.06365031e-02,\n",
       "         2.44250014e-02,  2.80956832e-02,  3.16481965e-02,\n",
       "         3.50824081e-02,  3.83983937e-02],\n",
       "       [ 0.00000000e+00,  1.48537326e-18, -2.62114994e-19,\n",
       "         6.93652775e-19, -9.22660873e-19,  1.52987364e-17,\n",
       "        -8.57892941e-18,  1.89796031e-17,  8.35529816e-20,\n",
       "         2.87069950e-17,  7.38741047e-19],\n",
       "       [ 0.00000000e+00, -6.45398336e-21,  6.20854286e-18,\n",
       "         1.57255985e-19, -7.77895169e-19,  1.05613508e-18,\n",
       "         7.13385705e-19, -4.22649413e-19, -4.91049939e-20,\n",
       "         2.42142340e-18,  7.70381771e-18],\n",
       "       [ 0.00000000e+00,  7.22825563e-19,  3.23344153e-17,\n",
       "         7.57516638e-17,  5.69188312e-17,  7.44470779e-17,\n",
       "         7.46348003e-17, -2.23518764e-17,  1.65639564e-16,\n",
       "        -4.69516467e-18,  1.02212026e-16],\n",
       "       [ 0.00000000e+00, -7.48307595e-03, -1.48553862e-02,\n",
       "        -2.20449994e-02, -2.90569199e-02, -3.58963321e-02,\n",
       "        -4.25684083e-02, -4.90781434e-02, -5.54302174e-02,\n",
       "        -6.16288882e-02, -6.76779134e-02],\n",
       "       [ 0.00000000e+00,  1.13111197e-18,  4.71885025e-18,\n",
       "         4.45912525e-18,  9.59480828e-18, -2.09614032e-17,\n",
       "        -1.06671586e-17,  1.77540884e-17, -4.11157966e-18,\n",
       "        -3.14485208e-17,  3.30299958e-17],\n",
       "       [ 0.00000000e+00,  2.80507045e-21, -4.41156296e-20,\n",
       "        -2.15219033e-20,  2.37454684e-20, -1.82483412e-21,\n",
       "         1.22338554e-19,  9.24345272e-22,  1.06559279e-20,\n",
       "        -1.96071583e-19, -7.68219207e-21]])"
      ]
     },
     "execution_count": 50,
     "metadata": {},
     "output_type": "execute_result"
    }
   ],
   "source": [
    "doubles_angles"
   ]
  },
  {
   "cell_type": "code",
   "execution_count": null,
   "metadata": {},
   "outputs": [],
   "source": []
  },
  {
   "cell_type": "code",
   "execution_count": null,
   "metadata": {},
   "outputs": [],
   "source": []
  }
 ],
 "metadata": {
  "kernelspec": {
   "display_name": "Python 3",
   "language": "python",
   "name": "python3"
  },
  "language_info": {
   "codemirror_mode": {
    "name": "ipython",
    "version": 3
   },
   "file_extension": ".py",
   "mimetype": "text/x-python",
   "name": "python",
   "nbconvert_exporter": "python",
   "pygments_lexer": "ipython3",
   "version": "3.7.1"
  }
 },
 "nbformat": 4,
 "nbformat_minor": 2
}
