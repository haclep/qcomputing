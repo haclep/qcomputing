{
 "cells": [
  {
   "cell_type": "code",
   "execution_count": 1,
   "metadata": {},
   "outputs": [],
   "source": [
    "import math as m\n",
    "import numpy as np\n",
    "import sys\n",
    "np.set_printoptions(threshold=sys.maxsize)\n",
    "#from scipy import linalg as LA"
   ]
  },
  {
   "cell_type": "code",
   "execution_count": 2,
   "metadata": {},
   "outputs": [],
   "source": [
    "basis_element = {1 : (0,0,1,1), 2 : (0,1,0,1), 3 : (0,1,1,0), 4 : (1,0,0,1), 5 : (1,0,1,0), 6 : (1,1,0,0)}\n",
    "basis = {}\n",
    "for i in range(1, len(basis_element.keys())+1):\n",
    "    for j in range(1, len(basis_element.keys())+1):\n",
    "        basis.update({(6*(i-1)+j) : basis_element[i]+basis_element[j]})"
   ]
  },
  {
   "cell_type": "code",
   "execution_count": 3,
   "metadata": {},
   "outputs": [],
   "source": [
    "def des(vector, x): #annihiltion operator\n",
    "    old_sign = 1\n",
    "    new_sign = 1\n",
    "    vector_temp = list(vector)\n",
    "    for i in range(8-x):\n",
    "        if vector_temp[i] == 1:\n",
    "            #print('found')\n",
    "            #print(i)\n",
    "            new_sign = old_sign * (-1)\n",
    "            old_sign = new_sign         \n",
    "    vector_temp[-x] = 0\n",
    "    #print(count)\n",
    "    #if count%2 == 1:\n",
    "        #sign = -1\n",
    "    #print(sign)\n",
    "    return [new_sign, vector_temp]\n",
    "    \n",
    "def crt(vector, x): #creation operator\n",
    "    old_sign = 1\n",
    "    new_sign = 1\n",
    "    vector_temp = list(vector)\n",
    "    for i in range(8-x):\n",
    "        if vector_temp[i] == 1:\n",
    "            new_sign = old_sign * (-1)\n",
    "            old_sign = new_sign\n",
    "    vector_temp[-x] = 1\n",
    "    return [new_sign, vector_temp]\n",
    "\n",
    "\n",
    "def ucc(vector,i,j,k,l): #double excitation term\n",
    "    vector_temp = list(vector)\n",
    "    temp1 = des(vector_temp,l)\n",
    "    #print(temp1)\n",
    "    temp2 = [des(temp1[1],k)[0] * temp1[0], des(temp1[1],k)[1]] \n",
    "    #print(temp2)\n",
    "    temp3 = [crt(temp2[1],j)[0] * temp2[0], crt(temp2[1],j)[1]]\n",
    "    #print(temp3)\n",
    "    temp4 = [crt(temp3[1],i)[0] * temp3[0], crt(temp3[1],i)[1]]\n",
    "    for index, val in basis.items(): #search by brute force which basis it hops into\n",
    "        if val == tuple(temp4[1]):\n",
    "            temp4 = [temp4[0], str(index)]\n",
    "    return temp4"
   ]
  },
  {
   "cell_type": "code",
   "execution_count": 4,
   "metadata": {},
   "outputs": [],
   "source": [
    "def occup(vector): #stores the indices of occupied up's\n",
    "    occuplist = []\n",
    "    vector_temp = vector\n",
    "    for i in range(1,5):\n",
    "        if vector_temp[-i] == 1:\n",
    "            occuplist.append(i)\n",
    "    return occuplist\n",
    "\n",
    "def unoccup(vector): #stores the indices of unoccupied up's\n",
    "    unoccuplist = []\n",
    "    vector_temp = vector\n",
    "    for i in range(1,5):\n",
    "        if vector_temp[-i] == 0:\n",
    "            unoccuplist.append(i)\n",
    "    return unoccuplist\n",
    "\n",
    "def occdn(vector): #stores the indices of occupied down's\n",
    "    occdnlist = []\n",
    "    vector_temp = vector\n",
    "    for i in range(5,9):\n",
    "        if vector_temp[-i] == 1:\n",
    "            occdnlist.append(i)\n",
    "    return occdnlist\n",
    "\n",
    "def unoccdn(vector): #stores the indices of unoccupied down's\n",
    "    unoccdnlist = []\n",
    "    vector_temp = vector\n",
    "    for i in range(5,9):\n",
    "        if vector_temp[-i] == 0:\n",
    "            unoccdnlist.append(i)\n",
    "    return unoccdnlist"
   ]
  },
  {
   "cell_type": "code",
   "execution_count": 5,
   "metadata": {},
   "outputs": [
    {
     "name": "stdout",
     "output_type": "stream",
     "text": [
      "[[-1, '15'], [-1, '27'], [-1, '17'], [-1, '29'], [1, '9'], [1, '21'], [1, '11'], [1, '23'], [1, '14'], [1, '26'], [1, '16'], [1, '28'], [-1, '8'], [-1, '20'], [-1, '10'], [-1, '22'], [-1, '6'], [-1, '31']]\n"
     ]
    }
   ],
   "source": [
    "def row(q):\n",
    "    vrow = []\n",
    "    for l in occup(basis[q]):\n",
    "        for k in occdn(basis[q]):\n",
    "            for j in unoccup(basis[q]):\n",
    "                for i in unoccdn(basis[q]):\n",
    "                    vrow.append(ucc(basis[q],i,j,k,l))\n",
    "    vrow.append(ucc(basis[q], unoccup(basis[q])[1],unoccup(basis[q])[0],occup(basis[q])[1],occup(basis[q])[0]))\n",
    "    vrow.append(ucc(basis[q], unoccdn(basis[q])[1],unoccdn(basis[q])[0],occdn(basis[q])[1],occdn(basis[q])[0]))\n",
    "    return vrow\n",
    "\n",
    "print(row(1))"
   ]
  },
  {
   "cell_type": "code",
   "execution_count": 6,
   "metadata": {},
   "outputs": [],
   "source": [
    "hopping_matrix = np.zeros([36,36],dtype=np.int32)"
   ]
  },
  {
   "cell_type": "code",
   "execution_count": 7,
   "metadata": {},
   "outputs": [],
   "source": [
    "for i in range(1,37):\n",
    "    for j in range(1,19):\n",
    "        if int(row(i)[j-1][1]) != 0:\n",
    "            hopping_matrix[i-1][int(row(i)[j-1][1])-1] = int(row(i)[j-1][0])"
   ]
  },
  {
   "cell_type": "code",
   "execution_count": 8,
   "metadata": {},
   "outputs": [
    {
     "name": "stdout",
     "output_type": "stream",
     "text": [
      "[ 0  0  0  0  0 -1  0 -1  1 -1  1  0  0  1 -1  1 -1  0  0 -1  1 -1  1  0\n",
      "  0  1 -1  1 -1  0 -1  0  0  0  0  0]\n"
     ]
    }
   ],
   "source": [
    "print(hopping_matrix[0])"
   ]
  },
  {
   "cell_type": "code",
   "execution_count": 9,
   "metadata": {},
   "outputs": [
    {
     "name": "stdout",
     "output_type": "stream",
     "text": [
      "[[ 0  0  0  0  0 -1  0 -1  1 -1  1  0  0  1 -1  1 -1  0  0 -1  1 -1  1  0\n",
      "   0  1 -1  1 -1  0 -1  0  0  0  0  0]\n",
      " [ 0  0  0  0 -1  0 -1  0 -1 -1  0  1  1  0  1  1  0 -1 -1  0 -1 -1  0  1\n",
      "   1  0  1  1  0 -1  0 -1  0  0  0  0]\n",
      " [ 0  0  0 -1  0  0  1 -1  0  0 -1  1 -1  1  0  0  1 -1  1 -1  0  0 -1  1\n",
      "  -1  1  0  0  1 -1  0  0 -1  0  0  0]\n",
      " [ 0  0 -1  0  0  0 -1 -1  0  0 -1 -1  1  1  0  0  1  1 -1 -1  0  0 -1 -1\n",
      "   1  1  0  0  1  1  0  0  0 -1  0  0]\n",
      " [ 0 -1  0  0  0  0  1  0 -1 -1  0 -1 -1  0  1  1  0  1  1  0 -1 -1  0 -1\n",
      "  -1  0  1  1  0  1  0  0  0  0 -1  0]\n",
      " [-1  0  0  0  0  0  0  1  1 -1 -1  0  0 -1 -1  1  1  0  0  1  1 -1 -1  0\n",
      "   0 -1 -1  1  1  0  0  0  0  0  0 -1]\n",
      " [ 0 -1  1 -1  1  0  0  0  0  0  0 -1  0 -1  1 -1  1  0  0 -1  1 -1  1  0\n",
      "  -1  0  0  0  0  0  0  1 -1  1 -1  0]\n",
      " [-1  0 -1 -1  0  1  0  0  0  0 -1  0 -1  0 -1 -1  0  1 -1  0 -1 -1  0  1\n",
      "   0 -1  0  0  0  0  1  0  1  1  0 -1]\n",
      " [ 1 -1  0  0 -1  1  0  0  0 -1  0  0  1 -1  0  0 -1  1  1 -1  0  0 -1  1\n",
      "   0  0 -1  0  0  0 -1  1  0  0  1 -1]\n",
      " [-1 -1  0  0 -1 -1  0  0 -1  0  0  0 -1 -1  0  0 -1 -1 -1 -1  0  0 -1 -1\n",
      "   0  0  0 -1  0  0  1  1  0  0  1  1]\n",
      " [ 1  0 -1 -1  0 -1  0 -1  0  0  0  0  1  0 -1 -1  0 -1  1  0 -1 -1  0 -1\n",
      "   0  0  0  0 -1  0 -1  0  1  1  0  1]\n",
      " [ 0  1  1 -1 -1  0 -1  0  0  0  0  0  0  1  1 -1 -1  0  0  1  1 -1 -1  0\n",
      "   0  0  0  0  0 -1  0 -1 -1  1  1  0]\n",
      " [ 0  1 -1  1 -1  0  0 -1  1 -1  1  0  0  0  0  0  0 -1 -1  0  0  0  0  0\n",
      "   0 -1  1 -1  1  0  0  1 -1  1 -1  0]\n",
      " [ 1  0  1  1  0 -1 -1  0 -1 -1  0  1  0  0  0  0 -1  0  0 -1  0  0  0  0\n",
      "  -1  0 -1 -1  0  1  1  0  1  1  0 -1]\n",
      " [-1  1  0  0  1 -1  1 -1  0  0 -1  1  0  0  0 -1  0  0  0  0 -1  0  0  0\n",
      "   1 -1  0  0 -1  1 -1  1  0  0  1 -1]\n",
      " [ 1  1  0  0  1  1 -1 -1  0  0 -1 -1  0  0 -1  0  0  0  0  0  0 -1  0  0\n",
      "  -1 -1  0  0 -1 -1  1  1  0  0  1  1]\n",
      " [-1  0  1  1  0  1  1  0 -1 -1  0 -1  0 -1  0  0  0  0  0  0  0  0 -1  0\n",
      "   1  0 -1 -1  0 -1 -1  0  1  1  0  1]\n",
      " [ 0 -1 -1  1  1  0  0  1  1 -1 -1  0 -1  0  0  0  0  0  0  0  0  0  0 -1\n",
      "   0  1  1 -1 -1  0  0 -1 -1  1  1  0]\n",
      " [ 0 -1  1 -1  1  0  0 -1  1 -1  1  0 -1  0  0  0  0  0  0  0  0  0  0 -1\n",
      "   0 -1  1 -1  1  0  0 -1  1 -1  1  0]\n",
      " [-1  0 -1 -1  0  1 -1  0 -1 -1  0  1  0 -1  0  0  0  0  0  0  0  0 -1  0\n",
      "  -1  0 -1 -1  0  1 -1  0 -1 -1  0  1]\n",
      " [ 1 -1  0  0 -1  1  1 -1  0  0 -1  1  0  0 -1  0  0  0  0  0  0 -1  0  0\n",
      "   1 -1  0  0 -1  1  1 -1  0  0 -1  1]\n",
      " [-1 -1  0  0 -1 -1 -1 -1  0  0 -1 -1  0  0  0 -1  0  0  0  0 -1  0  0  0\n",
      "  -1 -1  0  0 -1 -1 -1 -1  0  0 -1 -1]\n",
      " [ 1  0 -1 -1  0 -1  1  0 -1 -1  0 -1  0  0  0  0 -1  0  0 -1  0  0  0  0\n",
      "   1  0 -1 -1  0 -1  1  0 -1 -1  0 -1]\n",
      " [ 0  1  1 -1 -1  0  0  1  1 -1 -1  0  0  0  0  0  0 -1 -1  0  0  0  0  0\n",
      "   0  1  1 -1 -1  0  0  1  1 -1 -1  0]\n",
      " [ 0  1 -1  1 -1  0 -1  0  0  0  0  0  0 -1  1 -1  1  0  0 -1  1 -1  1  0\n",
      "   0  0  0  0  0 -1  0 -1  1 -1  1  0]\n",
      " [ 1  0  1  1  0 -1  0 -1  0  0  0  0 -1  0 -1 -1  0  1 -1  0 -1 -1  0  1\n",
      "   0  0  0  0 -1  0 -1  0 -1 -1  0  1]\n",
      " [-1  1  0  0  1 -1  0  0 -1  0  0  0  1 -1  0  0 -1  1  1 -1  0  0 -1  1\n",
      "   0  0  0 -1  0  0  1 -1  0  0 -1  1]\n",
      " [ 1  1  0  0  1  1  0  0  0 -1  0  0 -1 -1  0  0 -1 -1 -1 -1  0  0 -1 -1\n",
      "   0  0 -1  0  0  0 -1 -1  0  0 -1 -1]\n",
      " [-1  0  1  1  0  1  0  0  0  0 -1  0  1  0 -1 -1  0 -1  1  0 -1 -1  0 -1\n",
      "   0 -1  0  0  0  0  1  0 -1 -1  0 -1]\n",
      " [ 0 -1 -1  1  1  0  0  0  0  0  0 -1  0  1  1 -1 -1  0  0  1  1 -1 -1  0\n",
      "  -1  0  0  0  0  0  0  1  1 -1 -1  0]\n",
      " [-1  0  0  0  0  0  0  1 -1  1 -1  0  0  1 -1  1 -1  0  0 -1  1 -1  1  0\n",
      "   0 -1  1 -1  1  0  0  0  0  0  0 -1]\n",
      " [ 0 -1  0  0  0  0  1  0  1  1  0 -1  1  0  1  1  0 -1 -1  0 -1 -1  0  1\n",
      "  -1  0 -1 -1  0  1  0  0  0  0 -1  0]\n",
      " [ 0  0 -1  0  0  0 -1  1  0  0  1 -1 -1  1  0  0  1 -1  1 -1  0  0 -1  1\n",
      "   1 -1  0  0 -1  1  0  0  0 -1  0  0]\n",
      " [ 0  0  0 -1  0  0  1  1  0  0  1  1  1  1  0  0  1  1 -1 -1  0  0 -1 -1\n",
      "  -1 -1  0  0 -1 -1  0  0 -1  0  0  0]\n",
      " [ 0  0  0  0 -1  0 -1  0  1  1  0  1 -1  0  1  1  0  1  1  0 -1 -1  0 -1\n",
      "   1  0 -1 -1  0 -1  0 -1  0  0  0  0]\n",
      " [ 0  0  0  0  0 -1  0 -1 -1  1  1  0  0 -1 -1  1  1  0  0  1  1 -1 -1  0\n",
      "   0  1  1 -1 -1  0 -1  0  0  0  0  0]]\n"
     ]
    }
   ],
   "source": [
    "print(hopping_matrix)"
   ]
  },
  {
   "cell_type": "code",
   "execution_count": 661,
   "metadata": {},
   "outputs": [
    {
     "data": {
      "text/plain": [
       "36"
      ]
     },
     "execution_count": 661,
     "metadata": {},
     "output_type": "execute_result"
    }
   ],
   "source": [
    "len(hopping_matrix)"
   ]
  },
  {
   "cell_type": "code",
   "execution_count": null,
   "metadata": {},
   "outputs": [],
   "source": []
  }
 ],
 "metadata": {
  "kernelspec": {
   "display_name": "Python 3",
   "language": "python",
   "name": "python3"
  },
  "language_info": {
   "codemirror_mode": {
    "name": "ipython",
    "version": 3
   },
   "file_extension": ".py",
   "mimetype": "text/x-python",
   "name": "python",
   "nbconvert_exporter": "python",
   "pygments_lexer": "ipython3",
   "version": "3.7.1"
  }
 },
 "nbformat": 4,
 "nbformat_minor": 2
}
