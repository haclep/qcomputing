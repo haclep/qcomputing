{
 "cells": [
  {
   "cell_type": "code",
   "execution_count": 2,
   "metadata": {},
   "outputs": [],
   "source": [
    "import math as m\n",
    "import numpy as np\n",
    "import sys\n",
    "np.set_printoptions(threshold=sys.maxsize)\n",
    "#from scipy import linalg as LA"
   ]
  },
  {
   "cell_type": "code",
   "execution_count": 3,
   "metadata": {},
   "outputs": [
    {
     "data": {
      "text/plain": [
       "'     \\nbasis_element = {1: (0,0,0,1), 2: (0,0,1,0), 3: (0,1,0,0), 4:(1,0,0,0)}\\nbasis = {}\\nfor i in range(1, len(basis_element.keys())+1):\\n    for j in range(1, len(basis_element.keys())+1):\\n        basis.update({(len(basis_element)*(i-1)+j) : basis_element[i]+basis_element[j]})\\n'"
      ]
     },
     "execution_count": 3,
     "metadata": {},
     "output_type": "execute_result"
    }
   ],
   "source": [
    "\n",
    "basis_element = {1 : (0,0,1,1), 2 : (0,1,0,1), 3 : (0,1,1,0), 4 : (1,0,0,1), 5 : (1,0,1,0), 6 : (1,1,0,0)}\n",
    "basis = {}\n",
    "for i in range(1, len(basis_element.keys())+1):\n",
    "    for j in range(1, len(basis_element.keys())+1):\n",
    "        basis.update({(len(basis_element)*(i-1)+j) : basis_element[i]+basis_element[j]})\n",
    "'''     \n",
    "basis_element = {1: (0,0,0,1), 2: (0,0,1,0), 3: (0,1,0,0), 4:(1,0,0,0)}\n",
    "basis = {}\n",
    "for i in range(1, len(basis_element.keys())+1):\n",
    "    for j in range(1, len(basis_element.keys())+1):\n",
    "        basis.update({(len(basis_element)*(i-1)+j) : basis_element[i]+basis_element[j]})\n",
    "'''"
   ]
  },
  {
   "cell_type": "code",
   "execution_count": 4,
   "metadata": {},
   "outputs": [],
   "source": [
    "def des(vector, x): #annihiltion operator\n",
    "    old_sign = 1\n",
    "    new_sign = 1\n",
    "    vector_temp = list(vector)\n",
    "    for i in range(8-x):\n",
    "        if vector_temp[i] == 1:\n",
    "            #print('found')\n",
    "            #print(i)\n",
    "            new_sign = old_sign * (-1)\n",
    "            old_sign = new_sign         \n",
    "    vector_temp[-x] = 0\n",
    "    #print(count)\n",
    "    #if count%2 == 1:\n",
    "        #sign = -1\n",
    "    #print(sign)\n",
    "    return [new_sign, vector_temp]\n",
    "    \n",
    "def crt(vector, x): #creation operator\n",
    "    old_sign = 1\n",
    "    new_sign = 1\n",
    "    vector_temp = list(vector)\n",
    "    for i in range(8-x):\n",
    "        if vector_temp[i] == 1:\n",
    "            new_sign = old_sign * (-1)\n",
    "            old_sign = new_sign\n",
    "    vector_temp[-x] = 1\n",
    "    return [new_sign, vector_temp]\n",
    "\n",
    "\n",
    "def ucc(vector,i,j,k,l): #double excitation term\n",
    "    vector_temp = list(vector)\n",
    "    temp1 = des(vector_temp,l)\n",
    "    #print(temp1)\n",
    "    temp2 = [des(temp1[1],k)[0] * temp1[0], des(temp1[1],k)[1]] \n",
    "    #print(temp2)\n",
    "    temp3 = [crt(temp2[1],j)[0] * temp2[0], crt(temp2[1],j)[1]]\n",
    "    #print(temp3)\n",
    "    temp4 = [crt(temp3[1],i)[0] * temp3[0], crt(temp3[1],i)[1]]\n",
    "    for index, val in basis.items(): #search by brute force which basis it hops into\n",
    "        if val == tuple(temp4[1]):\n",
    "            temp4 = [temp4[0], str(index)]\n",
    "    return temp4\n",
    "\n",
    "def single(vector,i,j):\n",
    "    vector_temp = list(vector)\n",
    "    temp1 = des(vector_temp,j)\n",
    "    temp2 = [crt(temp1[1],i)[0] * temp1[0], crt(temp1[1],i)[1]]\n",
    "    for index, val in basis.items():\n",
    "        if val == tuple(temp2[1]):\n",
    "            temp2 = [temp2[0], str(index)]\n",
    "    return temp2\n",
    "\n",
    "def triple(vector,a,b,c,d,e,f):\n",
    "    vector_temp = list(vector)\n",
    "    temp1 = des(vector_temp, f)\n",
    "    temp2 = [des(temp1[1],e)[0] * temp1[0], des(temp1[1],e)[1]]\n",
    "    temp3 = [des(temp2[1],d)[0] * temp2[0], des(temp2[1],d)[1]]\n",
    "    temp4 = [crt(temp3[1],c)[0] * temp3[0], crt(temp3[1],c)[1]]\n",
    "    temp5 = [crt(temp4[1],b)[0] * temp4[0], crt(temp4[1],b)[1]]\n",
    "    temp6 = [crt(temp5[1],a)[0] * temp5[0], crt(temp5[1],a)[1]]\n",
    "    for index, val in basis.items(): #search by brute force which basis it hops into\n",
    "        if val == tuple(temp6[1]):\n",
    "            temp6 = [temp6[0], str(index)]\n",
    "            \n",
    "    return temp6\n",
    "\n",
    "def quad(vector, a,b,c,d,e,f,g,h):\n",
    "    vector_temp = list(vector)\n",
    "    temp1 = des(vector_temp, h)\n",
    "    temp2 = [des(temp1[1],g)[0] * temp1[0], des(temp1[1],g)[1]]\n",
    "    temp3 = [des(temp2[1],f)[0] * temp2[0], des(temp2[1],f)[1]]\n",
    "    temp4 = [des(temp3[1],e)[0] * temp3[0], des(temp3[1],e)[1]]\n",
    "    temp5 = [crt(temp4[1],d)[0] * temp4[0], crt(temp4[1],d)[1]]\n",
    "    temp6 = [crt(temp5[1],c)[0] * temp5[0], crt(temp5[1],c)[1]]\n",
    "    temp7 = [crt(temp6[1],b)[0] * temp6[0], crt(temp6[1],b)[1]]\n",
    "    temp8 = [crt(temp7[1],a)[0] * temp7[0], crt(temp7[1],a)[1]]\n",
    "    for index, val in basis.items(): #search by brute force which basis it hops into\n",
    "        if val == tuple(temp8[1]):\n",
    "            temp8 = [temp8[0], str(index)]\n",
    "            \n",
    "    return temp8"
   ]
  },
  {
   "cell_type": "code",
   "execution_count": 5,
   "metadata": {},
   "outputs": [],
   "source": [
    "def occup(vector): #stores the indices of occupied up's\n",
    "    occuplist = []\n",
    "    vector_temp = vector\n",
    "    for i in range(5,9):\n",
    "        if vector_temp[-i] == 1:\n",
    "            occuplist.append(i)\n",
    "    return occuplist\n",
    "\n",
    "def unoccup(vector): #stores the indices of unoccupied up's\n",
    "    unoccuplist = []\n",
    "    vector_temp = vector\n",
    "    for i in range(5,9):\n",
    "        if vector_temp[-i] == 0:\n",
    "            unoccuplist.append(i)\n",
    "    return unoccuplist\n",
    "\n",
    "def occdn(vector): #stores the indices of occupied down's\n",
    "    occdnlist = []\n",
    "    vector_temp = vector\n",
    "    for i in range(1,5):\n",
    "        if vector_temp[-i] == 1:\n",
    "            occdnlist.append(i)\n",
    "    return occdnlist\n",
    "\n",
    "def unoccdn(vector): #stores the indices of unoccupied down's\n",
    "    unoccdnlist = []\n",
    "    vector_temp = vector\n",
    "    for i in range(1,5):\n",
    "        if vector_temp[-i] == 0:\n",
    "            unoccdnlist.append(i)\n",
    "    return unoccdnlist"
   ]
  },
  {
   "cell_type": "code",
   "execution_count": 6,
   "metadata": {},
   "outputs": [],
   "source": [
    "def double(q):\n",
    "    vrow = []\n",
    "    for l in occdn(basis[q]):\n",
    "        for k in occup(basis[q]):\n",
    "            for j in unoccdn(basis[q]):\n",
    "                for i in unoccup(basis[q]):\n",
    "                    if (l>j) and (k>i):\n",
    "                        #print(i,j,k,l)\n",
    "                        vrow.append(ucc(basis[q],i,j,k,l))\n",
    "                    elif (l<j) and (k>i):\n",
    "                        #print(i,j,k,l)\n",
    "                        vrow.append([(ucc(basis[q],i,j,k,l))[0]*-1,(ucc(basis[q],i,j,k,l))[1]])\n",
    "                    elif (l>j) and (k<i):\n",
    "                        #print(i,j,k,l)\n",
    "                        vrow.append([(ucc(basis[q],i,j,k,l))[0]*-1,(ucc(basis[q],i,j,k,l))[1]])\n",
    "                    elif (l<j) and (k<i):\n",
    "                        #print(i,j,k,l)\n",
    "                        vrow.append(ucc(basis[q],i,j,k,l))\n",
    "    if len(basis) == 36: #bosonic excitations\n",
    "        a = unoccup(basis[q])[1]\n",
    "        b = unoccup(basis[q])[0]\n",
    "        c = occup(basis[q])[1]\n",
    "        d = occup(basis[q])[0]\n",
    "        if (d>b) and (c>a):\n",
    "            #print(a,b,c,d)\n",
    "            vrow.append(ucc(basis[q], a,b,c,d))\n",
    "        if (d<b) and (c>a):\n",
    "            #print(a,b,c,d)\n",
    "            vrow.append([ucc(basis[q], a,b,c,d)[0]*-1, ucc(basis[q], a,b,c,d)[1]])\n",
    "        if (d>b) and (c<a):\n",
    "            #print(a,b,c,d)\n",
    "            vrow.append([ucc(basis[q], a,b,c,d)[0]*-1, ucc(basis[q], a,b,c,d)[1]])\n",
    "        if (d<b) and (c<a):\n",
    "            #print(a,b,c,d)\n",
    "            vrow.append(ucc(basis[q], a,b,c,d))\n",
    "            \n",
    "        e = unoccdn(basis[q])[1]\n",
    "        f = unoccdn(basis[q])[0]\n",
    "        g = occdn(basis[q])[1]\n",
    "        h = occdn(basis[q])[0]\n",
    "        if (h>f) and (g>e):\n",
    "            #print(e,f,g,h)\n",
    "            vrow.append(ucc(basis[q], e,f,g,h))\n",
    "        if (h<f) and (g>e):\n",
    "            #print(e,f,g,h)\n",
    "            vrow.append([ucc(basis[q], e,f,g,h)[0]*-1, ucc(basis[q], e,f,g,h)[1]])\n",
    "        if (h>f) and (g<e):\n",
    "            #print(e,f,g,h)\n",
    "            vrow.append([ucc(basis[q], e,f,g,h)[0]*-1, ucc(basis[q], e,f,g,h)[1]])\n",
    "        if (h<f) and (g<e):\n",
    "            #print(e,f,g,h)\n",
    "            vrow.append(ucc(basis[q], e,f,g,h))\n",
    "    return vrow"
   ]
  },
  {
   "cell_type": "code",
   "execution_count": 7,
   "metadata": {},
   "outputs": [],
   "source": [
    "def singles(q):\n",
    "    vrow = []\n",
    "    for j in occdn(basis[q]):\n",
    "        for i in unoccdn(basis[q]):\n",
    "            vrow.append(single(basis[q],i,j))\n",
    "    for l in occup(basis[q]):\n",
    "        for k in unoccup(basis[q]):\n",
    "            vrow.append(single(basis[q],k,l))\n",
    "    return vrow"
   ]
  },
  {
   "cell_type": "code",
   "execution_count": 8,
   "metadata": {},
   "outputs": [],
   "source": [
    "def triples(q):\n",
    "    vrow = []\n",
    "    for f in occdn(basis[q]):\n",
    "        for e in occup(basis[q]):\n",
    "            for d in occup(basis[q]):\n",
    "                if d !=e and d > e:\n",
    "                    \n",
    "                    for c in unoccdn(basis[q]):\n",
    "                        for b in unoccup(basis[q]):\n",
    "                            for a in unoccup(basis[q]):\n",
    "                                if a != b and a > b:\n",
    "                                    \n",
    "                                    vrow.append(triple(basis[q],a,b,c,d,e,f))\n",
    "                            \n",
    "    for f in occdn(basis[q]):\n",
    "        for e in occdn(basis[q]):\n",
    "            if e != f and e > f:\n",
    "                \n",
    "                for d in occup(basis[q]):\n",
    "                    \n",
    "                    for c in unoccdn(basis[q]):\n",
    "                        for b in unoccdn(basis[q]):\n",
    "                            if b != c and b > c:\n",
    "                                \n",
    "                                for a in unoccup(basis[q]):\n",
    "                                    vrow.append(triple(basis[q], a,b,c,d,e,f))\n",
    "    return vrow\n",
    "\n",
    "def quads(q):\n",
    "    vrow = []\n",
    "    for h in occdn(basis[q]):\n",
    "        for g in occdn(basis[q]):\n",
    "            if g != h and g > h:\n",
    "                \n",
    "                for f in occup(basis[q]):\n",
    "                    for e in occup(basis[q]):\n",
    "                        if e != f and e > f:\n",
    "                            \n",
    "                            for d in unoccdn(basis[q]):\n",
    "                                for c in unoccdn(basis[q]):\n",
    "                                    if c != d and c > d:\n",
    "                                        \n",
    "                                        for b in unoccup(basis[q]):\n",
    "                                            for a in unoccup(basis[q]):\n",
    "                                                if a != b and a > b:\n",
    "                                    \n",
    "                                                    vrow.append(quad(basis[q],a,b,c,d,e,f,g,h))\n",
    "    return vrow"
   ]
  },
  {
   "cell_type": "code",
   "execution_count": 39,
   "metadata": {},
   "outputs": [
    {
     "data": {
      "text/plain": [
       "[1, '33']"
      ]
     },
     "execution_count": 39,
     "metadata": {},
     "output_type": "execute_result"
    }
   ],
   "source": [
    "#double(8)[1]"
   ]
  },
  {
   "cell_type": "code",
   "execution_count": 43,
   "metadata": {},
   "outputs": [
    {
     "data": {
      "text/plain": [
       "[-1, '18']"
      ]
     },
     "execution_count": 43,
     "metadata": {},
     "output_type": "execute_result"
    }
   ],
   "source": [
    "#double(13)[-1]"
   ]
  },
  {
   "cell_type": "code",
   "execution_count": 42,
   "metadata": {},
   "outputs": [
    {
     "data": {
      "text/plain": [
       "[[1, '33']]"
      ]
     },
     "execution_count": 42,
     "metadata": {},
     "output_type": "execute_result"
    }
   ],
   "source": [
    "#quads(4)"
   ]
  },
  {
   "cell_type": "code",
   "execution_count": null,
   "metadata": {},
   "outputs": [],
   "source": []
  }
 ],
 "metadata": {
  "kernelspec": {
   "display_name": "Python 3",
   "language": "python",
   "name": "python3"
  },
  "language_info": {
   "codemirror_mode": {
    "name": "ipython",
    "version": 3
   },
   "file_extension": ".py",
   "mimetype": "text/x-python",
   "name": "python",
   "nbconvert_exporter": "python",
   "pygments_lexer": "ipython3",
   "version": "3.7.1"
  }
 },
 "nbformat": 4,
 "nbformat_minor": 2
}
