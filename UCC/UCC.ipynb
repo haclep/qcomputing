{
 "cells": [
  {
   "cell_type": "code",
   "execution_count": 2,
   "metadata": {},
   "outputs": [],
   "source": [
    "import math as m\n",
    "import numpy as np\n",
    "import sys\n",
    "np.set_printoptions(threshold=sys.maxsize)\n",
    "#from scipy import linalg as LA"
   ]
  },
  {
   "cell_type": "code",
   "execution_count": 3,
   "metadata": {},
   "outputs": [
    {
     "data": {
      "text/plain": [
       "'     \\nbasis_element = {1: (0,0,0,1), 2: (0,0,1,0), 3: (0,1,0,0), 4:(1,0,0,0)}\\nbasis = {}\\nfor i in range(1, len(basis_element.keys())+1):\\n    for j in range(1, len(basis_element.keys())+1):\\n        basis.update({(len(basis_element)*(i-1)+j) : basis_element[i]+basis_element[j]})\\n'"
      ]
     },
     "execution_count": 3,
     "metadata": {},
     "output_type": "execute_result"
    }
   ],
   "source": [
    "\n",
    "basis_element = {1 : (0,0,1,1), 2 : (0,1,0,1), 3 : (0,1,1,0), 4 : (1,0,0,1), 5 : (1,0,1,0), 6 : (1,1,0,0)}\n",
    "basis = {}\n",
    "for i in range(1, len(basis_element.keys())+1):\n",
    "    for j in range(1, len(basis_element.keys())+1):\n",
    "        basis.update({(len(basis_element)*(i-1)+j) : basis_element[i]+basis_element[j]})\n",
    "'''     \n",
    "basis_element = {1: (0,0,0,1), 2: (0,0,1,0), 3: (0,1,0,0), 4:(1,0,0,0)}\n",
    "basis = {}\n",
    "for i in range(1, len(basis_element.keys())+1):\n",
    "    for j in range(1, len(basis_element.keys())+1):\n",
    "        basis.update({(len(basis_element)*(i-1)+j) : basis_element[i]+basis_element[j]})\n",
    "'''"
   ]
  },
  {
   "cell_type": "code",
   "execution_count": 4,
   "metadata": {},
   "outputs": [],
   "source": [
    "def des(vector, x): #annihiltion operator\n",
    "    old_sign = 1\n",
    "    new_sign = 1\n",
    "    vector_temp = list(vector)\n",
    "    for i in range(8-x):\n",
    "        if vector_temp[i] == 1:\n",
    "            #print('found')\n",
    "            #print(i)\n",
    "            new_sign = old_sign * (-1)\n",
    "            old_sign = new_sign         \n",
    "    vector_temp[-x] = 0\n",
    "    #print(count)\n",
    "    #if count%2 == 1:\n",
    "        #sign = -1\n",
    "    #print(sign)\n",
    "    return [new_sign, vector_temp]\n",
    "    \n",
    "def crt(vector, x): #creation operator\n",
    "    old_sign = 1\n",
    "    new_sign = 1\n",
    "    vector_temp = list(vector)\n",
    "    for i in range(8-x):\n",
    "        if vector_temp[i] == 1:\n",
    "            new_sign = old_sign * (-1)\n",
    "            old_sign = new_sign\n",
    "    vector_temp[-x] = 1\n",
    "    return [new_sign, vector_temp]\n",
    "\n",
    "\n",
    "def ucc(vector,i,j,k,l): #double excitation term\n",
    "    vector_temp = list(vector)\n",
    "    temp1 = des(vector_temp,l)\n",
    "    #print(temp1)\n",
    "    temp2 = [des(temp1[1],k)[0] * temp1[0], des(temp1[1],k)[1]] \n",
    "    #print(temp2)\n",
    "    temp3 = [crt(temp2[1],j)[0] * temp2[0], crt(temp2[1],j)[1]]\n",
    "    #print(temp3)\n",
    "    temp4 = [crt(temp3[1],i)[0] * temp3[0], crt(temp3[1],i)[1]]\n",
    "    for index, val in basis.items(): #search by brute force which basis it hops into\n",
    "        if val == tuple(temp4[1]):\n",
    "            temp4 = [temp4[0], str(index)]\n",
    "    return temp4\n",
    "\n",
    "def single(vector,i,j):\n",
    "    vector_temp = list(vector)\n",
    "    temp1 = des(vector_temp,j)\n",
    "    temp2 = [crt(temp1[1],i)[0] * temp1[0], crt(temp1[1],i)[1]]\n",
    "    for index, val in basis.items():\n",
    "        if val == tuple(temp2[1]):\n",
    "            temp2 = [temp2[0], str(index)]\n",
    "    return temp2"
   ]
  },
  {
   "cell_type": "code",
   "execution_count": 5,
   "metadata": {},
   "outputs": [],
   "source": [
    "def occup(vector): #stores the indices of occupied up's\n",
    "    occuplist = []\n",
    "    vector_temp = vector\n",
    "    for i in range(1,5):\n",
    "        if vector_temp[-i] == 1:\n",
    "            occuplist.append(i)\n",
    "    return occuplist\n",
    "\n",
    "def unoccup(vector): #stores the indices of unoccupied up's\n",
    "    unoccuplist = []\n",
    "    vector_temp = vector\n",
    "    for i in range(1,5):\n",
    "        if vector_temp[-i] == 0:\n",
    "            unoccuplist.append(i)\n",
    "    return unoccuplist\n",
    "\n",
    "def occdn(vector): #stores the indices of occupied down's\n",
    "    occdnlist = []\n",
    "    vector_temp = vector\n",
    "    for i in range(5,9):\n",
    "        if vector_temp[-i] == 1:\n",
    "            occdnlist.append(i)\n",
    "    return occdnlist\n",
    "\n",
    "def unoccdn(vector): #stores the indices of unoccupied down's\n",
    "    unoccdnlist = []\n",
    "    vector_temp = vector\n",
    "    for i in range(5,9):\n",
    "        if vector_temp[-i] == 0:\n",
    "            unoccdnlist.append(i)\n",
    "    return unoccdnlist"
   ]
  },
  {
   "cell_type": "code",
   "execution_count": 6,
   "metadata": {},
   "outputs": [],
   "source": [
    "def double(q):\n",
    "    vrow = []\n",
    "    for l in occdn(basis[q]):\n",
    "        for k in occup(basis[q]):\n",
    "            for j in unoccdn(basis[q]):\n",
    "                for i in unoccup(basis[q]):\n",
    "                    vrow.append(ucc(basis[q],i,j,k,l))\n",
    "    if len(basis) == 36:\n",
    "        \n",
    "        vrow.append(ucc(basis[q], unoccup(basis[q])[1],unoccup(basis[q])[0],occup(basis[q])[1],occup(basis[q])[0]))\n",
    "        vrow.append(ucc(basis[q], unoccdn(basis[q])[1],unoccdn(basis[q])[0],occdn(basis[q])[1],occdn(basis[q])[0]))\n",
    "    return vrow"
   ]
  },
  {
   "cell_type": "code",
   "execution_count": 7,
   "metadata": {},
   "outputs": [],
   "source": [
    "def singles(q):\n",
    "    vrow = []\n",
    "    for j in occdn(basis[q]):\n",
    "        for i in unoccdn(basis[q]):\n",
    "            vrow.append(single(basis[q],i,j))\n",
    "    for l in occup(basis[q]):\n",
    "        for k in unoccup(basis[q]):\n",
    "            vrow.append(single(basis[q],k,l))\n",
    "    return vrow"
   ]
  },
  {
   "cell_type": "code",
   "execution_count": 8,
   "metadata": {},
   "outputs": [],
   "source": [
    "#singles(1)"
   ]
  },
  {
   "cell_type": "code",
   "execution_count": 9,
   "metadata": {},
   "outputs": [
    {
     "data": {
      "text/plain": [
       "[[-1, '15'],\n",
       " [-1, '17'],\n",
       " [-1, '27'],\n",
       " [-1, '29'],\n",
       " [1, '14'],\n",
       " [1, '16'],\n",
       " [1, '26'],\n",
       " [1, '28'],\n",
       " [1, '9'],\n",
       " [1, '11'],\n",
       " [1, '21'],\n",
       " [1, '23'],\n",
       " [-1, '8'],\n",
       " [-1, '10'],\n",
       " [-1, '20'],\n",
       " [-1, '22'],\n",
       " [-1, '6'],\n",
       " [-1, '31']]"
      ]
     },
     "execution_count": 9,
     "metadata": {},
     "output_type": "execute_result"
    }
   ],
   "source": [
    "double(1)"
   ]
  },
  {
   "cell_type": "code",
   "execution_count": null,
   "metadata": {},
   "outputs": [],
   "source": []
  },
  {
   "cell_type": "code",
   "execution_count": null,
   "metadata": {},
   "outputs": [],
   "source": []
  }
 ],
 "metadata": {
  "kernelspec": {
   "display_name": "Python 3",
   "language": "python",
   "name": "python3"
  },
  "language_info": {
   "codemirror_mode": {
    "name": "ipython",
    "version": 3
   },
   "file_extension": ".py",
   "mimetype": "text/x-python",
   "name": "python",
   "nbconvert_exporter": "python",
   "pygments_lexer": "ipython3",
   "version": "3.7.1"
  }
 },
 "nbformat": 4,
 "nbformat_minor": 2
}
