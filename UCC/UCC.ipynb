{
 "cells": [
  {
   "cell_type": "code",
   "execution_count": 3,
   "metadata": {},
   "outputs": [],
   "source": [
    "import math as m\n",
    "import numpy as np\n",
    "import sys\n",
    "np.set_printoptions(threshold=sys.maxsize)\n",
    "#from scipy import linalg as LA"
   ]
  },
  {
   "cell_type": "code",
   "execution_count": 4,
   "metadata": {},
   "outputs": [
    {
     "data": {
      "text/plain": [
       "'     \\nbasis_element = {1: (0,0,0,1), 2: (0,0,1,0), 3: (0,1,0,0), 4:(1,0,0,0)}\\nbasis = {}\\nfor i in range(1, len(basis_element.keys())+1):\\n    for j in range(1, len(basis_element.keys())+1):\\n        basis.update({(len(basis_element)*(i-1)+j) : basis_element[i]+basis_element[j]})\\n'"
      ]
     },
     "execution_count": 4,
     "metadata": {},
     "output_type": "execute_result"
    }
   ],
   "source": [
    "\n",
    "basis_element = {1 : (0,0,1,1), 2 : (0,1,0,1), 3 : (0,1,1,0), 4 : (1,0,0,1), 5 : (1,0,1,0), 6 : (1,1,0,0)}\n",
    "basis = {}\n",
    "for i in range(1, len(basis_element.keys())+1):\n",
    "    for j in range(1, len(basis_element.keys())+1):\n",
    "        basis.update({(len(basis_element)*(i-1)+j) : basis_element[i]+basis_element[j]})\n",
    "'''     \n",
    "basis_element = {1: (0,0,0,1), 2: (0,0,1,0), 3: (0,1,0,0), 4:(1,0,0,0)}\n",
    "basis = {}\n",
    "for i in range(1, len(basis_element.keys())+1):\n",
    "    for j in range(1, len(basis_element.keys())+1):\n",
    "        basis.update({(len(basis_element)*(i-1)+j) : basis_element[i]+basis_element[j]})\n",
    "'''"
   ]
  },
  {
   "cell_type": "code",
   "execution_count": 5,
   "metadata": {},
   "outputs": [],
   "source": [
    "def des(vector, x): #annihiltion operator\n",
    "    old_sign = 1\n",
    "    new_sign = 1\n",
    "    vector_temp = list(vector)\n",
    "    for i in range(8-x):\n",
    "        if vector_temp[i] == 1:\n",
    "            #print('found')\n",
    "            #print(i)\n",
    "            new_sign = old_sign * (-1)\n",
    "            old_sign = new_sign         \n",
    "    vector_temp[-x] = 0\n",
    "    #print(count)\n",
    "    #if count%2 == 1:\n",
    "        #sign = -1\n",
    "    #print(sign)\n",
    "    return [new_sign, vector_temp]\n",
    "    \n",
    "def crt(vector, x): #creation operator\n",
    "    old_sign = 1\n",
    "    new_sign = 1\n",
    "    vector_temp = list(vector)\n",
    "    for i in range(8-x):\n",
    "        if vector_temp[i] == 1:\n",
    "            new_sign = old_sign * (-1)\n",
    "            old_sign = new_sign\n",
    "    vector_temp[-x] = 1\n",
    "    return [new_sign, vector_temp]\n",
    "\n",
    "\n",
    "def ucc(vector,i,j,k,l): #double excitation term\n",
    "    vector_temp = list(vector)\n",
    "    temp1 = des(vector_temp,l)\n",
    "    #print(temp1)\n",
    "    temp2 = [des(temp1[1],k)[0] * temp1[0], des(temp1[1],k)[1]] \n",
    "    #print(temp2)\n",
    "    temp3 = [crt(temp2[1],j)[0] * temp2[0], crt(temp2[1],j)[1]]\n",
    "    #print(temp3)\n",
    "    temp4 = [crt(temp3[1],i)[0] * temp3[0], crt(temp3[1],i)[1]]\n",
    "    for index, val in basis.items(): #search by brute force which basis it hops into\n",
    "        if val == tuple(temp4[1]):\n",
    "            temp4 = [temp4[0], str(index)]\n",
    "    return temp4\n",
    "\n",
    "def single(vector,i,j):\n",
    "    vector_temp = list(vector)\n",
    "    temp1 = des(vector_temp,j)\n",
    "    temp2 = [crt(temp1[1],i)[0] * temp1[0], crt(temp1[1],i)[1]]\n",
    "    for index, val in basis.items():\n",
    "        if val == tuple(temp2[1]):\n",
    "            temp2 = [temp2[0], str(index)]\n",
    "    return temp2\n",
    "\n",
    "def triple(vector,a,b,c,d,e,f):\n",
    "    vector_temp = list(vector)\n",
    "    temp1 = des(vector_temp, f)\n",
    "    temp2 = [des(temp1[1],e)[0] * temp1[0], des(temp1[1],e)[1]]\n",
    "    temp3 = [des(temp2[1],d)[0] * temp2[0], des(temp2[1],d)[1]]\n",
    "    temp4 = [crt(temp3[1],c)[0] * temp3[0], crt(temp3[1],c)[1]]\n",
    "    temp5 = [crt(temp4[1],b)[0] * temp4[0], crt(temp4[1],b)[1]]\n",
    "    temp6 = [crt(temp5[1],a)[0] * temp5[0], crt(temp5[1],a)[1]]\n",
    "    for index, val in basis.items(): #search by brute force which basis it hops into\n",
    "        if val == tuple(temp6[1]):\n",
    "            temp6 = [temp6[0], str(index)]\n",
    "            \n",
    "    return temp6\n",
    "\n",
    "def quad(vector, a,b,c,d,e,f,g,h):\n",
    "    vector_temp = list(vector)\n",
    "    temp1 = des(vector_temp, h)\n",
    "    temp2 = [des(temp1[1],g)[0] * temp1[0], des(temp1[1],g)[1]]\n",
    "    temp3 = [des(temp2[1],f)[0] * temp2[0], des(temp2[1],f)[1]]\n",
    "    temp4 = [des(temp3[1],e)[0] * temp3[0], des(temp3[1],e)[1]]\n",
    "    temp5 = [crt(temp4[1],d)[0] * temp4[0], crt(temp4[1],d)[1]]\n",
    "    temp6 = [crt(temp5[1],c)[0] * temp5[0], crt(temp5[1],c)[1]]\n",
    "    temp7 = [crt(temp6[1],b)[0] * temp6[0], crt(temp6[1],b)[1]]\n",
    "    temp8 = [crt(temp7[1],a)[0] * temp7[0], crt(temp7[1],a)[1]]\n",
    "    for index, val in basis.items(): #search by brute force which basis it hops into\n",
    "        if val == tuple(temp8[1]):\n",
    "            temp8 = [temp8[0], str(index)]\n",
    "            \n",
    "    return temp8"
   ]
  },
  {
   "cell_type": "code",
   "execution_count": 6,
   "metadata": {},
   "outputs": [],
   "source": [
    "def occup(vector): #stores the indices of occupied up's\n",
    "    occuplist = []\n",
    "    vector_temp = vector\n",
    "    for i in range(1,5):\n",
    "        if vector_temp[-i] == 1:\n",
    "            occuplist.append(i)\n",
    "    return occuplist\n",
    "\n",
    "def unoccup(vector): #stores the indices of unoccupied up's\n",
    "    unoccuplist = []\n",
    "    vector_temp = vector\n",
    "    for i in range(1,5):\n",
    "        if vector_temp[-i] == 0:\n",
    "            unoccuplist.append(i)\n",
    "    return unoccuplist\n",
    "\n",
    "def occdn(vector): #stores the indices of occupied down's\n",
    "    occdnlist = []\n",
    "    vector_temp = vector\n",
    "    for i in range(5,9):\n",
    "        if vector_temp[-i] == 1:\n",
    "            occdnlist.append(i)\n",
    "    return occdnlist\n",
    "\n",
    "def unoccdn(vector): #stores the indices of unoccupied down's\n",
    "    unoccdnlist = []\n",
    "    vector_temp = vector\n",
    "    for i in range(5,9):\n",
    "        if vector_temp[-i] == 0:\n",
    "            unoccdnlist.append(i)\n",
    "    return unoccdnlist"
   ]
  },
  {
   "cell_type": "code",
   "execution_count": 7,
   "metadata": {},
   "outputs": [],
   "source": [
    "def double(q):\n",
    "    vrow = []\n",
    "    for l in occdn(basis[q]):\n",
    "        for k in occup(basis[q]):\n",
    "            for j in unoccdn(basis[q]):\n",
    "                for i in unoccup(basis[q]):\n",
    "                    vrow.append(ucc(basis[q],i,j,k,l))\n",
    "    if len(basis) == 36: #bosonic excitations\n",
    "        \n",
    "        vrow.append(ucc(basis[q], unoccup(basis[q])[1],unoccup(basis[q])[0],occup(basis[q])[1],occup(basis[q])[0]))\n",
    "        vrow.append(ucc(basis[q], unoccdn(basis[q])[1],unoccdn(basis[q])[0],occdn(basis[q])[1],occdn(basis[q])[0]))\n",
    "    return vrow"
   ]
  },
  {
   "cell_type": "code",
   "execution_count": 8,
   "metadata": {},
   "outputs": [],
   "source": [
    "def singles(q):\n",
    "    vrow = []\n",
    "    for j in occdn(basis[q]):\n",
    "        for i in unoccdn(basis[q]):\n",
    "            vrow.append(single(basis[q],i,j))\n",
    "    for l in occup(basis[q]):\n",
    "        for k in unoccup(basis[q]):\n",
    "            vrow.append(single(basis[q],k,l))\n",
    "    return vrow"
   ]
  },
  {
   "cell_type": "code",
   "execution_count": 9,
   "metadata": {},
   "outputs": [],
   "source": [
    "def triples(q):\n",
    "    vrow = []\n",
    "    for f in occdn(basis[q]):\n",
    "        for e in occup(basis[q]):\n",
    "            for d in occup(basis[q]):\n",
    "                if d !=e and d > e:\n",
    "                    \n",
    "                    for c in unoccdn(basis[q]):\n",
    "                        for b in unoccup(basis[q]):\n",
    "                            for a in unoccup(basis[q]):\n",
    "                                if a != b and a > b:\n",
    "                                    \n",
    "                                    vrow.append(triple(basis[q],a,b,c,d,e,f))\n",
    "                            \n",
    "    for f in occdn(basis[q]):\n",
    "        for e in occdn(basis[q]):\n",
    "            if e != f and e > f:\n",
    "                \n",
    "                for d in occup(basis[q]):\n",
    "                    \n",
    "                    for c in unoccdn(basis[q]):\n",
    "                        for b in unoccdn(basis[q]):\n",
    "                            if b != c and b > c:\n",
    "                                \n",
    "                                for a in unoccup(basis[q]):\n",
    "                                    vrow.append(triple(basis[q], a,b,c,d,e,f))\n",
    "    return vrow\n",
    "\n",
    "def quads(q):\n",
    "    vrow = []\n",
    "    for h in occdn(basis[q]):\n",
    "        for g in occdn(basis[q]):\n",
    "            if g != h and g > h:\n",
    "                \n",
    "                for f in occup(basis[q]):\n",
    "                    for e in occup(basis[q]):\n",
    "                        if e != f and e > f:\n",
    "                            \n",
    "                            for d in unoccdn(basis[q]):\n",
    "                                for c in unoccdn(basis[q]):\n",
    "                                    if c != d and c > d:\n",
    "                                        \n",
    "                                        for b in unoccup(basis[q]):\n",
    "                                            for a in unoccup(basis[q]):\n",
    "                                                if a != b and a > b:\n",
    "                                    \n",
    "                                                    vrow.append(quad(basis[q],a,b,c,d,e,f,g,h))\n",
    "    return vrow"
   ]
  },
  {
   "cell_type": "code",
   "execution_count": 10,
   "metadata": {},
   "outputs": [
    {
     "data": {
      "text/plain": [
       "([[-1, '15'],\n",
       "  [-1, '17'],\n",
       "  [-1, '27'],\n",
       "  [-1, '29'],\n",
       "  [1, '14'],\n",
       "  [1, '16'],\n",
       "  [1, '26'],\n",
       "  [1, '28'],\n",
       "  [1, '9'],\n",
       "  [1, '11'],\n",
       "  [1, '21'],\n",
       "  [1, '23'],\n",
       "  [-1, '8'],\n",
       "  [-1, '10'],\n",
       "  [-1, '20'],\n",
       "  [-1, '22'],\n",
       "  [-1, '6'],\n",
       "  [-1, '31']],\n",
       " [[-1, '29'],\n",
       "  [-1, '30'],\n",
       "  [-1, '35'],\n",
       "  [-1, '36'],\n",
       "  [-1, '25'],\n",
       "  [-1, '26'],\n",
       "  [-1, '31'],\n",
       "  [-1, '32'],\n",
       "  [-1, '5'],\n",
       "  [-1, '6'],\n",
       "  [-1, '11'],\n",
       "  [-1, '12'],\n",
       "  [-1, '1'],\n",
       "  [-1, '2'],\n",
       "  [-1, '7'],\n",
       "  [-1, '8'],\n",
       "  [-1, '21'],\n",
       "  [-1, '16']])"
      ]
     },
     "execution_count": 10,
     "metadata": {},
     "output_type": "execute_result"
    }
   ],
   "source": [
    "#double(1),double(22)"
   ]
  },
  {
   "cell_type": "code",
   "execution_count": 11,
   "metadata": {},
   "outputs": [
    {
     "data": {
      "text/plain": [
       "[[-1, '9'],\n",
       " [1, '33'],\n",
       " [1, '3'],\n",
       " [-1, '27'],\n",
       " [-1, '23'],\n",
       " [-1, '24'],\n",
       " [-1, '19'],\n",
       " [-1, '20']]"
      ]
     },
     "execution_count": 11,
     "metadata": {},
     "output_type": "execute_result"
    }
   ],
   "source": [
    "#triples(16)"
   ]
  },
  {
   "cell_type": "code",
   "execution_count": 19,
   "metadata": {},
   "outputs": [
    {
     "data": {
      "text/plain": [
       "[[1, '21']]"
      ]
     },
     "execution_count": 19,
     "metadata": {},
     "output_type": "execute_result"
    }
   ],
   "source": [
    "#quads(16)"
   ]
  },
  {
   "cell_type": "code",
   "execution_count": 14,
   "metadata": {},
   "outputs": [
    {
     "data": {
      "text/plain": [
       "[[-1, '13'],\n",
       " [-1, '25'],\n",
       " [1, '7'],\n",
       " [1, '19'],\n",
       " [-1, '3'],\n",
       " [-1, '5'],\n",
       " [1, '2'],\n",
       " [1, '4']]"
      ]
     },
     "execution_count": 14,
     "metadata": {},
     "output_type": "execute_result"
    }
   ],
   "source": [
    "#singles(1)"
   ]
  },
  {
   "cell_type": "code",
   "execution_count": null,
   "metadata": {},
   "outputs": [],
   "source": []
  }
 ],
 "metadata": {
  "kernelspec": {
   "display_name": "Python 3",
   "language": "python",
   "name": "python3"
  },
  "language_info": {
   "codemirror_mode": {
    "name": "ipython",
    "version": 3
   },
   "file_extension": ".py",
   "mimetype": "text/x-python",
   "name": "python",
   "nbconvert_exporter": "python",
   "pygments_lexer": "ipython3",
   "version": "3.7.1"
  }
 },
 "nbformat": 4,
 "nbformat_minor": 2
}
