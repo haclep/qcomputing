{
 "cells": [
  {
   "cell_type": "code",
   "execution_count": 22,
   "metadata": {},
   "outputs": [],
   "source": [
    "import math as m\n",
    "import sys\n",
    "import numpy as np\n",
    "from numpy import cos\n",
    "from numpy import pi\n",
    "np.set_printoptions(threshold=sys.maxsize)\n",
    "from scipy import linalg as LA"
   ]
  },
  {
   "cell_type": "code",
   "execution_count": 23,
   "metadata": {},
   "outputs": [
    {
     "data": {
      "text/plain": [
       "'        \\nbasis_element = {1: (0,0,0,1), 2: (0,0,1,0), 3: (0,1,0,0), 4:(1,0,0,0)}\\nbasis = {}\\nfor i in range(1, len(basis_element.keys())+1):\\n    for j in range(1, len(basis_element.keys())+1):\\n        basis.update({(len(basis_element)*(i-1)+j) : basis_element[i]+basis_element[j]})\\n'"
      ]
     },
     "execution_count": 23,
     "metadata": {},
     "output_type": "execute_result"
    }
   ],
   "source": [
    "basis_element = {1 : (0,0,1,1), 2 : (0,1,0,1), 3 : (0,1,1,0), 4 : (1,0,0,1), 5 : (1,0,1,0), 6 : (1,1,0,0)}\n",
    "basis = {}\n",
    "for i in range(1, len(basis_element.keys())+1):\n",
    "    for j in range(1, len(basis_element.keys())+1):\n",
    "        basis.update({(len(basis_element)*(i-1)+j) : basis_element[i]+basis_element[j]})\n",
    "'''        \n",
    "basis_element = {1: (0,0,0,1), 2: (0,0,1,0), 3: (0,1,0,0), 4:(1,0,0,0)}\n",
    "basis = {}\n",
    "for i in range(1, len(basis_element.keys())+1):\n",
    "    for j in range(1, len(basis_element.keys())+1):\n",
    "        basis.update({(len(basis_element)*(i-1)+j) : basis_element[i]+basis_element[j]})\n",
    "'''"
   ]
  },
  {
   "cell_type": "code",
   "execution_count": 24,
   "metadata": {},
   "outputs": [],
   "source": [
    "def des(vector, x): #annihiltion operator\n",
    "    old_sign = 1\n",
    "    new_sign = 1\n",
    "    vector_temp = list(vector)\n",
    "    for i in range(8-x):\n",
    "        if vector_temp[i] == 1:\n",
    "            #print('found')\n",
    "            #print(i)\n",
    "            new_sign = old_sign * (-1)\n",
    "            old_sign = new_sign         \n",
    "    vector_temp[-x] = 0\n",
    "    #print(count)\n",
    "    #if count%2 == 1:\n",
    "        #sign = -1\n",
    "    #print(sign)\n",
    "    return [new_sign, vector_temp]\n",
    "    \n",
    "def crt(vector, x): #creation operator\n",
    "    old_sign = 1\n",
    "    new_sign = 1\n",
    "    vector_temp = list(vector)\n",
    "    for i in range(8-x):\n",
    "        if vector_temp[i] == 1:\n",
    "            new_sign = old_sign * (-1)\n",
    "            old_sign = new_sign\n",
    "    vector_temp[-x] = 1\n",
    "    return [new_sign, vector_temp]"
   ]
  },
  {
   "cell_type": "code",
   "execution_count": 25,
   "metadata": {},
   "outputs": [],
   "source": [
    "def tterm(vector): #construct the kinetic energy term\n",
    "    epsilon = 0.0\n",
    "    vector_temp = list(vector)\n",
    "    for i in range(len(vector_temp)):\n",
    "        if vector_temp[i] == 1:\n",
    "            k = (3 - i) * pi / 2\n",
    "            epsilon += -2.0 * cos(k)\n",
    "    return epsilon"
   ]
  },
  {
   "cell_type": "code",
   "execution_count": 26,
   "metadata": {},
   "outputs": [],
   "source": [
    "def occup(vector): #stores the indices of occupied up's\n",
    "    occuplist = []\n",
    "    vector_temp = vector\n",
    "    for i in range(1,5):\n",
    "        if vector_temp[-i] == 1:\n",
    "            occuplist.append(i)\n",
    "    return occuplist\n",
    "\n",
    "def unoccup(vector): #stores the indices of unoccupied up's\n",
    "    unoccuplist = []\n",
    "    vector_temp = vector\n",
    "    for i in range(1,5):\n",
    "        if vector_temp[-i] == 0:\n",
    "            unoccuplist.append(i)\n",
    "    return unoccuplist\n",
    "\n",
    "def occdn(vector): #stores the indices of occupied down's\n",
    "    occdnlist = []\n",
    "    vector_temp = vector\n",
    "    for i in range(5,9):\n",
    "        if vector_temp[-i] == 1:\n",
    "            occdnlist.append(i)\n",
    "    return occdnlist\n",
    "\n",
    "def unoccdn(vector): #stores the indices of unoccupied down's\n",
    "    unoccdnlist = []\n",
    "    vector_temp = vector\n",
    "    for i in range(5,9):\n",
    "        if vector_temp[-i] == 0:\n",
    "            unoccdnlist.append(i)\n",
    "    return unoccdnlist"
   ]
  },
  {
   "cell_type": "code",
   "execution_count": 27,
   "metadata": {},
   "outputs": [],
   "source": [
    "def uterm(vector,j,k,l): #construct the interaction term\n",
    "    i = k+l-j+4\n",
    "    vector_temp = list(vector)\n",
    "    temp4 = [0, vector_temp]\n",
    "    if (i !=8 and i > 4):\n",
    "        i = i % 4\n",
    "    if i == 8:\n",
    "        i = i - 4\n",
    "    if (i != k):\n",
    "        #print('aha')\n",
    "        vector_temp = list(vector)\n",
    "        temp1 = des(vector_temp,l)\n",
    "        #print(temp1)\n",
    "        temp2 = [des(temp1[1],k)[0] * temp1[0], des(temp1[1],k)[1]]\n",
    "        #print(temp2)\n",
    "        temp3 = [crt(temp2[1],j)[0] * temp2[0], crt(temp2[1],j)[1]]\n",
    "        #print(temp3)\n",
    "        temp4 = [crt(temp3[1],i)[0] * temp3[0], crt(temp3[1],i)[1]]\n",
    "        #print(temp4)\n",
    "        for index, val in basis.items():\n",
    "            if val == tuple(temp4[1]):\n",
    "                temp4 = [temp4[0], str(index)]\n",
    "    return temp4\n",
    "\n",
    "def row(x): #spit out the rows\n",
    "    vrow = []\n",
    "    for l in occdn(basis[x]):\n",
    "        for k in occup(basis[x]):\n",
    "            for j in unoccdn(basis[x]):\n",
    "                #print(uterm(basis[x],j,k,l)[1])\n",
    "                if type(uterm(basis[x],j,k,l)[1]) == str:\n",
    "                    #print(j,k,l)\n",
    "                    vrow.append(uterm(basis[x],j,k,l))\n",
    "                \n",
    "    return vrow\n",
    "def uent(x,y): #project the rows into cols to get each entry\n",
    "    value = 0\n",
    "    for i in range(len(row(x))):\n",
    "        if y == int(row(x)[i][1]):\n",
    "            value = row(x)[i][0]\n",
    "    return value"
   ]
  },
  {
   "cell_type": "code",
   "execution_count": 32,
   "metadata": {},
   "outputs": [],
   "source": [
    "#actual code starts here\n",
    "nelec = 4\n",
    "mu = 0\n",
    "def hamm(U):\n",
    "    umatrix = np.zeros([len(basis),len(basis)],dtype = float)\n",
    "    tmatrix = np.zeros([len(basis),len(basis)],dtype = float)\n",
    "    for i in range(len(basis)):\n",
    "        tmatrix[i,i] = tterm(basis[i+1]) - mu * nelec / 2.0 + U\n",
    "    for i in range(len(basis)):\n",
    "        for j in range(len(basis)):\n",
    "            umatrix[i,j] = uent(i+1,j+1) * U / nelec\n",
    "    hammatrix = tmatrix - umatrix\n",
    "    return hammatrix\n",
    "\n",
    "def groundstate(U): #get ground state\n",
    "    #tol = 0.4\n",
    "    eigenValues, eigenVectors = LA.eig(hamm(U))\n",
    "    idx = np.argsort(eigenValues)\n",
    "    eigenValues = eigenValues[idx]\n",
    "    eigenVectors = eigenVectors[:,idx]\n",
    "    ground_state = eigenVectors.transpose()[0]\n",
    "    return ground_state\n",
    "\n",
    "def energy(U):\n",
    "    return np.dot(groundstate(U),np.dot(hamm(U),groundstate(U)))"
   ]
  },
  {
   "cell_type": "code",
   "execution_count": 37,
   "metadata": {},
   "outputs": [
    {
     "data": {
      "text/plain": [
       "\"\\ninteraction = 0.1\\neigenvalues, eigenvectors = LA.eig(hamm(interaction))\\neigenvalues = eigenvalues.real\\neigenvectors = eigenvectors.real\\nidx = np.argsort(eigenvalues)\\neigenvalues = eigenvalues[idx]\\neigenvectors = eigenvectors[:,idx]\\neig_transpose = eigenvectors.transpose()\\nprint(eigenvalues)\\n#print(eigenvectors)\\nprint('\\n')\\nprint(eig_transpose)\\n\""
      ]
     },
     "execution_count": 37,
     "metadata": {},
     "output_type": "execute_result"
    }
   ],
   "source": [
    "'''\n",
    "interaction = 0.1\n",
    "eigenvalues, eigenvectors = LA.eig(hamm(interaction))\n",
    "eigenvalues = eigenvalues.real\n",
    "eigenvectors = eigenvectors.real\n",
    "idx = np.argsort(eigenvalues)\n",
    "eigenvalues = eigenvalues[idx]\n",
    "eigenvectors = eigenvectors[:,idx]\n",
    "eig_transpose = eigenvectors.transpose()\n",
    "print(eigenvalues)\n",
    "#print(eigenvectors)\n",
    "print('\\n')\n",
    "print(eig_transpose)\n",
    "'''"
   ]
  },
  {
   "cell_type": "code",
   "execution_count": 38,
   "metadata": {},
   "outputs": [],
   "source": [
    "#energy(1)"
   ]
  },
  {
   "cell_type": "code",
   "execution_count": null,
   "metadata": {},
   "outputs": [],
   "source": []
  }
 ],
 "metadata": {
  "kernelspec": {
   "display_name": "Python 3",
   "language": "python",
   "name": "python3"
  },
  "language_info": {
   "codemirror_mode": {
    "name": "ipython",
    "version": 3
   },
   "file_extension": ".py",
   "mimetype": "text/x-python",
   "name": "python",
   "nbconvert_exporter": "python",
   "pygments_lexer": "ipython3",
   "version": "3.7.1"
  }
 },
 "nbformat": 4,
 "nbformat_minor": 2
}
