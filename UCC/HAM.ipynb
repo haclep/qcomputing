{
 "cells": [
  {
   "cell_type": "code",
   "execution_count": 429,
   "metadata": {},
   "outputs": [],
   "source": [
    "import math as m\n",
    "import sys\n",
    "import numpy as np\n",
    "from numpy import cos\n",
    "from numpy import pi\n",
    "np.set_printoptions(threshold=sys.maxsize)\n",
    "from scipy import linalg as LA"
   ]
  },
  {
   "cell_type": "code",
   "execution_count": 430,
   "metadata": {},
   "outputs": [],
   "source": [
    "basis_element = {1 : (0,0,1,1), 2 : (0,1,0,1), 3 : (0,1,1,0), 4 : (1,0,0,1), 5 : (1,0,1,0), 6 : (1,1,0,0)}\n",
    "basis = {}\n",
    "for i in range(1, len(basis_element.keys())+1):\n",
    "    for j in range(1, len(basis_element.keys())+1):\n",
    "        basis.update({(6*(i-1)+j) : basis_element[i]+basis_element[j]})"
   ]
  },
  {
   "cell_type": "code",
   "execution_count": 431,
   "metadata": {},
   "outputs": [],
   "source": [
    "def des(vector, x): #annihiltion operator\n",
    "    old_sign = 1\n",
    "    new_sign = 1\n",
    "    vector_temp = list(vector)\n",
    "    for i in range(8-x):\n",
    "        if vector_temp[i] == 1:\n",
    "            #print('found')\n",
    "            #print(i)\n",
    "            new_sign = old_sign * (-1)\n",
    "            old_sign = new_sign         \n",
    "    vector_temp[-x] = 0\n",
    "    #print(count)\n",
    "    #if count%2 == 1:\n",
    "        #sign = -1\n",
    "    #print(sign)\n",
    "    return [new_sign, vector_temp]\n",
    "    \n",
    "def crt(vector, x): #creation operator\n",
    "    old_sign = 1\n",
    "    new_sign = 1\n",
    "    vector_temp = list(vector)\n",
    "    for i in range(8-x):\n",
    "        if vector_temp[i] == 1:\n",
    "            new_sign = old_sign * (-1)\n",
    "            old_sign = new_sign\n",
    "    vector_temp[-x] = 1\n",
    "    return [new_sign, vector_temp]"
   ]
  },
  {
   "cell_type": "code",
   "execution_count": 472,
   "metadata": {},
   "outputs": [],
   "source": [
    "def tterm(vector): #construct the kinetic energy term\n",
    "    epsilon = 0.0\n",
    "    vector_temp = list(vector)\n",
    "    for i in range(len(vector_temp)):\n",
    "        if vector_temp[i] == 1:\n",
    "            k = (2 - i) * pi / 2\n",
    "            epsilon += -2.0 * cos(k)\n",
    "    return epsilon"
   ]
  },
  {
   "cell_type": "code",
   "execution_count": 473,
   "metadata": {},
   "outputs": [],
   "source": [
    "def occup(vector): #stores the indices of occupied up's\n",
    "    occuplist = []\n",
    "    vector_temp = vector\n",
    "    for i in range(1,5):\n",
    "        if vector_temp[-i] == 1:\n",
    "            occuplist.append(i)\n",
    "    return occuplist\n",
    "\n",
    "def unoccup(vector): #stores the indices of unoccupied up's\n",
    "    unoccuplist = []\n",
    "    vector_temp = vector\n",
    "    for i in range(1,5):\n",
    "        if vector_temp[-i] == 0:\n",
    "            unoccuplist.append(i)\n",
    "    return unoccuplist\n",
    "\n",
    "def occdn(vector): #stores the indices of occupied down's\n",
    "    occdnlist = []\n",
    "    vector_temp = vector\n",
    "    for i in range(5,9):\n",
    "        if vector_temp[-i] == 1:\n",
    "            occdnlist.append(i)\n",
    "    return occdnlist\n",
    "\n",
    "def unoccdn(vector): #stores the indices of unoccupied down's\n",
    "    unoccdnlist = []\n",
    "    vector_temp = vector\n",
    "    for i in range(5,9):\n",
    "        if vector_temp[-i] == 0:\n",
    "            unoccdnlist.append(i)\n",
    "    return unoccdnlist"
   ]
  },
  {
   "cell_type": "code",
   "execution_count": 474,
   "metadata": {},
   "outputs": [],
   "source": [
    "def uterm(vector,j,k,l): #construct the interaction term\n",
    "    i = k+l-j+4\n",
    "    vector_temp = list(vector)\n",
    "    temp4 = [0, vector_temp]\n",
    "    if (i !=8 and i > 4):\n",
    "        i = i % 4\n",
    "    if i == 8:\n",
    "        i = i - 4\n",
    "    if (i != k):\n",
    "        #print('aha')\n",
    "        vector_temp = list(vector)\n",
    "        temp1 = des(vector_temp,l)\n",
    "        #print(temp1)\n",
    "        temp2 = [des(temp1[1],k)[0] * temp1[0], des(temp1[1],k)[1]]\n",
    "        #print(temp2)\n",
    "        temp3 = [crt(temp2[1],j)[0] * temp2[0], crt(temp2[1],j)[1]]\n",
    "        #print(temp3)\n",
    "        temp4 = [crt(temp3[1],i)[0] * temp3[0], crt(temp3[1],i)[1]]\n",
    "        #print(temp4)\n",
    "        for index, val in basis.items():\n",
    "            if val == tuple(temp4[1]):\n",
    "                temp4 = [temp4[0], str(index)]\n",
    "    return temp4\n",
    "\n",
    "def row(x): #spit out the rows\n",
    "    vrow = []\n",
    "    for l in occdn(basis[x]):\n",
    "        for k in occup(basis[x]):\n",
    "            for j in unoccdn(basis[x]):\n",
    "                #print(uterm(basis[x],j,k,l)[1])\n",
    "                if type(uterm(basis[x],j,k,l)[1]) == str:\n",
    "                    #print(j,k,l)\n",
    "                    vrow.append(uterm(basis[x],j,k,l))\n",
    "                \n",
    "    return vrow\n",
    "def uent(x,y): #project the rows into cols to get each entry\n",
    "    value = 0\n",
    "    for i in range(len(row(x))):\n",
    "        if y == int(row(x)[i][1]):\n",
    "            value = row(x)[i][0]\n",
    "    return value"
   ]
  },
  {
   "cell_type": "code",
   "execution_count": 481,
   "metadata": {},
   "outputs": [],
   "source": [
    "#actual code starts here\n",
    "nelec = 4\n",
    "U = 1.0\n",
    "mu = U / 2\n",
    "umatrix = np.zeros([36,36],dtype = float)\n",
    "tmatrix = np.zeros([36,36],dtype = float)\n",
    "for i in range(len(basis)):\n",
    "    tmatrix[i,i] = tterm(basis[i+1]) - mu * nelec / 2 \n",
    "    #2 is the number Jimbo chose for the electron-hole model\n",
    "for i in range(len(basis)):\n",
    "    for j in range(len(basis)):\n",
    "        umatrix[i,j] = uent(i+1,j+1) * U / nelec \n",
    "ham = tmatrix + umatrix"
   ]
  },
  {
   "cell_type": "code",
   "execution_count": 482,
   "metadata": {},
   "outputs": [
    {
     "data": {
      "text/plain": [
       "array([-5.34084762e+00, -5.29295138e+00, -4.86387634e+00, -4.78526086e+00,\n",
       "       -3.56155281e+00, -3.56155281e+00, -3.00000000e+00, -3.00000000e+00,\n",
       "       -3.00000000e+00, -3.00000000e+00, -2.56155281e+00, -2.56155281e+00,\n",
       "       -2.00000000e+00, -1.49230948e+00, -1.47697128e+00, -1.00000000e+00,\n",
       "       -1.00000000e+00, -1.00000000e+00, -1.00000000e+00, -1.00000000e+00,\n",
       "       -1.00000000e+00, -5.23028722e-01, -5.07690516e-01,  5.14786846e-17,\n",
       "        5.61552813e-01,  5.61552813e-01,  1.00000000e+00,  1.00000000e+00,\n",
       "        1.00000000e+00,  1.00000000e+00,  1.56155281e+00,  1.56155281e+00,\n",
       "        2.78526086e+00,  2.86387634e+00,  3.29295138e+00,  3.34084762e+00])"
      ]
     },
     "execution_count": 482,
     "metadata": {},
     "output_type": "execute_result"
    }
   ],
   "source": [
    "np.sort(LA.eigvals(ham).real)"
   ]
  },
  {
   "cell_type": "code",
   "execution_count": null,
   "metadata": {},
   "outputs": [],
   "source": []
  }
 ],
 "metadata": {
  "kernelspec": {
   "display_name": "Python 3",
   "language": "python",
   "name": "python3"
  },
  "language_info": {
   "codemirror_mode": {
    "name": "ipython",
    "version": 3
   },
   "file_extension": ".py",
   "mimetype": "text/x-python",
   "name": "python",
   "nbconvert_exporter": "python",
   "pygments_lexer": "ipython3",
   "version": "3.7.1"
  }
 },
 "nbformat": 4,
 "nbformat_minor": 2
}
